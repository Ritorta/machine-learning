{
 "cells": [
  {
   "cell_type": "markdown",
   "metadata": {
    "id": "o6I4n4hwCgV5"
   },
   "source": [
    "# Работа с данными. Домашнее задание\n"
   ]
  },
  {
   "cell_type": "markdown",
   "metadata": {
    "id": "CUhKZgVsFEkk"
   },
   "source": [
    "## Задача\n",
    "Имеется набор данных покупателей супермаркета. Проведите анализ и очистку этих данных."
   ]
  },
  {
   "cell_type": "code",
   "execution_count": 1,
   "metadata": {},
   "outputs": [],
   "source": [
    "import numpy as np\n",
    "import pandas as pd\n",
    "import seaborn as sns\n",
    "import matplotlib.pyplot as plt\n",
    "from sklearn.linear_model import LinearRegression\n",
    "from sklearn.ensemble import RandomForestClassifier\n",
    "from sklearn.model_selection import train_test_split\n",
    "from sklearn.metrics import mean_absolute_error, mean_squared_error, r2_score, accuracy_score, classification_report, confusion_matrix\n",
    "from sklearn.preprocessing import StandardScaler\n",
    "from sklearn.impute import SimpleImputer"
   ]
  },
  {
   "cell_type": "markdown",
   "metadata": {
    "id": "9pfNcyY_FoV7"
   },
   "source": [
    "### Задание 1\n",
    "\n",
    "Загрузите данные из файла `Mall_Customers.csv` в ноутбук и выведите первые пять строк на экран."
   ]
  },
  {
   "cell_type": "code",
   "execution_count": 2,
   "metadata": {
    "id": "9Q82jW1UCjGi"
   },
   "outputs": [],
   "source": [
    "# Загрузка данных из файла\n",
    "df = pd.read_csv(\"Mall_Customers.csv\")"
   ]
  },
  {
   "cell_type": "code",
   "execution_count": 3,
   "metadata": {},
   "outputs": [
    {
     "data": {
      "text/html": [
       "<div>\n",
       "<style scoped>\n",
       "    .dataframe tbody tr th:only-of-type {\n",
       "        vertical-align: middle;\n",
       "    }\n",
       "\n",
       "    .dataframe tbody tr th {\n",
       "        vertical-align: top;\n",
       "    }\n",
       "\n",
       "    .dataframe thead th {\n",
       "        text-align: right;\n",
       "    }\n",
       "</style>\n",
       "<table border=\"1\" class=\"dataframe\">\n",
       "  <thead>\n",
       "    <tr style=\"text-align: right;\">\n",
       "      <th></th>\n",
       "      <th>CustomerID</th>\n",
       "      <th>Genre</th>\n",
       "      <th>Age</th>\n",
       "      <th>Annual Income (k$)</th>\n",
       "      <th>Spending Score (1-100)</th>\n",
       "    </tr>\n",
       "  </thead>\n",
       "  <tbody>\n",
       "    <tr>\n",
       "      <th>0</th>\n",
       "      <td>1</td>\n",
       "      <td>Male</td>\n",
       "      <td>19.0</td>\n",
       "      <td>15.0</td>\n",
       "      <td>39</td>\n",
       "    </tr>\n",
       "    <tr>\n",
       "      <th>1</th>\n",
       "      <td>2</td>\n",
       "      <td>Male</td>\n",
       "      <td>NaN</td>\n",
       "      <td>NaN</td>\n",
       "      <td>81</td>\n",
       "    </tr>\n",
       "    <tr>\n",
       "      <th>2</th>\n",
       "      <td>3</td>\n",
       "      <td>Female</td>\n",
       "      <td>NaN</td>\n",
       "      <td>16.0</td>\n",
       "      <td>6</td>\n",
       "    </tr>\n",
       "    <tr>\n",
       "      <th>3</th>\n",
       "      <td>4</td>\n",
       "      <td>Female</td>\n",
       "      <td>23.0</td>\n",
       "      <td>16.0</td>\n",
       "      <td>77</td>\n",
       "    </tr>\n",
       "    <tr>\n",
       "      <th>4</th>\n",
       "      <td>5</td>\n",
       "      <td>Female</td>\n",
       "      <td>31.0</td>\n",
       "      <td>17.0</td>\n",
       "      <td>40</td>\n",
       "    </tr>\n",
       "  </tbody>\n",
       "</table>\n",
       "</div>"
      ],
      "text/plain": [
       "   CustomerID   Genre   Age  Annual Income (k$)  Spending Score (1-100)\n",
       "0           1    Male  19.0                15.0                      39\n",
       "1           2    Male   NaN                 NaN                      81\n",
       "2           3  Female   NaN                16.0                       6\n",
       "3           4  Female  23.0                16.0                      77\n",
       "4           5  Female  31.0                17.0                      40"
      ]
     },
     "execution_count": 3,
     "metadata": {},
     "output_type": "execute_result"
    }
   ],
   "source": [
    "df.head()"
   ]
  },
  {
   "cell_type": "markdown",
   "metadata": {
    "id": "MMergpE8Fj8-"
   },
   "source": [
    "### Описание данных\n",
    "\n",
    "Дан файл Mall_Customers.csv, содержащий следующие данные по покупателям сети супермаркетов:\n",
    "- CustomerID — идентификатор покупателя.\n",
    "- Genre – пол покупателя.\n",
    "- Age – возраст покупателя.\n",
    "- Annual Income (k\\$) – годовой доход покупателя, тысяч $.\n",
    "- Spending Score (1–100) – рейтинг покупателя, целевая переменная."
   ]
  },
  {
   "cell_type": "markdown",
   "metadata": {
    "id": "dZ6Tm3koGft2"
   },
   "source": [
    "### Задание 2\n",
    "\n",
    "Проведите разведочный анализ загруженных данных. Обязательные атрибуты для анализа:\n",
    "- количество пропусков в каждом признаке;\n",
    "- распределения признаков;\n",
    "- возможные выбросы или аномалии.\n",
    "\n",
    "Анализ дополнительных атрибутов и свойств данных приветствуется. Используйте средства визуализации там, где это необходимо.\n",
    "\n",
    "По результатам анализа сделайте выводы о свойствах отдельных признаков и качестве данных в целом."
   ]
  },
  {
   "cell_type": "code",
   "execution_count": 4,
   "metadata": {},
   "outputs": [
    {
     "name": "stdout",
     "output_type": "stream",
     "text": [
      "<class 'pandas.core.frame.DataFrame'>\n",
      "RangeIndex: 200 entries, 0 to 199\n",
      "Data columns (total 5 columns):\n",
      " #   Column                  Non-Null Count  Dtype  \n",
      "---  ------                  --------------  -----  \n",
      " 0   CustomerID              200 non-null    int64  \n",
      " 1   Genre                   181 non-null    object \n",
      " 2   Age                     180 non-null    float64\n",
      " 3   Annual Income (k$)      180 non-null    float64\n",
      " 4   Spending Score (1-100)  200 non-null    int64  \n",
      "dtypes: float64(2), int64(2), object(1)\n",
      "memory usage: 7.9+ KB\n"
     ]
    }
   ],
   "source": [
    "df.info()"
   ]
  },
  {
   "cell_type": "markdown",
   "metadata": {},
   "source": [
    "Из общей информации df следует:\n",
    "1. DataFrame содержит 200 записей (от индекса 0 до 199)\n",
    "2. Всего 5 колонок\n",
    "3. Нулевые значения отсуствуют\n",
    "4. Пропущенные значения в колонках Genre, Age, Annual Income\n",
    "5. Колонки CustomerID, Spending Score, в формате int64, Age, Annual Income в формате float64 и один объектный Genre"
   ]
  },
  {
   "cell_type": "code",
   "execution_count": 5,
   "metadata": {},
   "outputs": [
    {
     "data": {
      "text/html": [
       "<div>\n",
       "<style scoped>\n",
       "    .dataframe tbody tr th:only-of-type {\n",
       "        vertical-align: middle;\n",
       "    }\n",
       "\n",
       "    .dataframe tbody tr th {\n",
       "        vertical-align: top;\n",
       "    }\n",
       "\n",
       "    .dataframe thead th {\n",
       "        text-align: right;\n",
       "    }\n",
       "</style>\n",
       "<table border=\"1\" class=\"dataframe\">\n",
       "  <thead>\n",
       "    <tr style=\"text-align: right;\">\n",
       "      <th></th>\n",
       "      <th>count</th>\n",
       "      <th>mean</th>\n",
       "      <th>std</th>\n",
       "      <th>min</th>\n",
       "      <th>25%</th>\n",
       "      <th>50%</th>\n",
       "      <th>75%</th>\n",
       "      <th>max</th>\n",
       "    </tr>\n",
       "  </thead>\n",
       "  <tbody>\n",
       "    <tr>\n",
       "      <th>CustomerID</th>\n",
       "      <td>200.0</td>\n",
       "      <td>100.500000</td>\n",
       "      <td>57.879185</td>\n",
       "      <td>1.0</td>\n",
       "      <td>50.75</td>\n",
       "      <td>100.5</td>\n",
       "      <td>150.25</td>\n",
       "      <td>200.0</td>\n",
       "    </tr>\n",
       "    <tr>\n",
       "      <th>Age</th>\n",
       "      <td>180.0</td>\n",
       "      <td>39.894444</td>\n",
       "      <td>16.842848</td>\n",
       "      <td>18.0</td>\n",
       "      <td>29.00</td>\n",
       "      <td>36.0</td>\n",
       "      <td>49.00</td>\n",
       "      <td>135.0</td>\n",
       "    </tr>\n",
       "    <tr>\n",
       "      <th>Annual Income (k$)</th>\n",
       "      <td>180.0</td>\n",
       "      <td>5615.433333</td>\n",
       "      <td>74531.115872</td>\n",
       "      <td>15.0</td>\n",
       "      <td>42.00</td>\n",
       "      <td>61.0</td>\n",
       "      <td>78.00</td>\n",
       "      <td>1000000.0</td>\n",
       "    </tr>\n",
       "    <tr>\n",
       "      <th>Spending Score (1-100)</th>\n",
       "      <td>200.0</td>\n",
       "      <td>50.200000</td>\n",
       "      <td>25.823522</td>\n",
       "      <td>1.0</td>\n",
       "      <td>34.75</td>\n",
       "      <td>50.0</td>\n",
       "      <td>73.00</td>\n",
       "      <td>99.0</td>\n",
       "    </tr>\n",
       "  </tbody>\n",
       "</table>\n",
       "</div>"
      ],
      "text/plain": [
       "                        count         mean           std   min    25%    50%  \\\n",
       "CustomerID              200.0   100.500000     57.879185   1.0  50.75  100.5   \n",
       "Age                     180.0    39.894444     16.842848  18.0  29.00   36.0   \n",
       "Annual Income (k$)      180.0  5615.433333  74531.115872  15.0  42.00   61.0   \n",
       "Spending Score (1-100)  200.0    50.200000     25.823522   1.0  34.75   50.0   \n",
       "\n",
       "                           75%        max  \n",
       "CustomerID              150.25      200.0  \n",
       "Age                      49.00      135.0  \n",
       "Annual Income (k$)       78.00  1000000.0  \n",
       "Spending Score (1-100)   73.00       99.0  "
      ]
     },
     "execution_count": 5,
     "metadata": {},
     "output_type": "execute_result"
    }
   ],
   "source": [
    "# Статистический анализ числовых переменных\n",
    "df.describe().T"
   ]
  },
  {
   "cell_type": "markdown",
   "metadata": {},
   "source": [
    "На основе представленных статистических данных неприрывных признаков можно сделать следующие выводы:\n",
    "\n",
    "Age (Возвраст покупателя):\n",
    "\n",
    "- Средний возвраст на уровне 36.00\n",
    "- Миниманая 18.00\n",
    "- Максимальная 135.00\n",
    "- Медиана равна 39.89\n",
    "- Отклонение состовляет 16.84\n",
    "\n",
    "Annual Income (Годовой доход покупателя):\n",
    "\n",
    "- Средний доход на уровне 61.00\n",
    "- Миниманая 15.00\n",
    "- Максимальная 1000000.00\n",
    "- Медиана равна 5615.43\n",
    "- Отклонение состовляет 74531.11\n",
    "\n",
    "Spending Score (Рейтинг покупателя):\n",
    "\n",
    "- Средний рейтинг на уровне 50.00\n",
    "- Миниманая 99.00\n",
    "- Максимальная 1.00\n",
    "- Медиана равна 50.20\n",
    "- Отклонение состовляет 25.82\n",
    "\n",
    "CustomerID - уникальный номер клиента не учитываем.\n",
    "Данные имею выбросы и неравномерность."
   ]
  },
  {
   "cell_type": "code",
   "execution_count": 6,
   "metadata": {},
   "outputs": [
    {
     "data": {
      "text/html": [
       "<div>\n",
       "<style scoped>\n",
       "    .dataframe tbody tr th:only-of-type {\n",
       "        vertical-align: middle;\n",
       "    }\n",
       "\n",
       "    .dataframe tbody tr th {\n",
       "        vertical-align: top;\n",
       "    }\n",
       "\n",
       "    .dataframe thead th {\n",
       "        text-align: right;\n",
       "    }\n",
       "</style>\n",
       "<table border=\"1\" class=\"dataframe\">\n",
       "  <thead>\n",
       "    <tr style=\"text-align: right;\">\n",
       "      <th></th>\n",
       "      <th>count</th>\n",
       "      <th>unique</th>\n",
       "      <th>top</th>\n",
       "      <th>freq</th>\n",
       "    </tr>\n",
       "  </thead>\n",
       "  <tbody>\n",
       "    <tr>\n",
       "      <th>Genre</th>\n",
       "      <td>181</td>\n",
       "      <td>3</td>\n",
       "      <td>Female</td>\n",
       "      <td>102</td>\n",
       "    </tr>\n",
       "  </tbody>\n",
       "</table>\n",
       "</div>"
      ],
      "text/plain": [
       "      count unique     top freq\n",
       "Genre   181      3  Female  102"
      ]
     },
     "execution_count": 6,
     "metadata": {},
     "output_type": "execute_result"
    }
   ],
   "source": [
    "# Статистический анализ объектных переменных\n",
    "df.describe(include='object').T"
   ]
  },
  {
   "cell_type": "markdown",
   "metadata": {},
   "source": [
    "\n",
    "Genre (Пол покупателя):\n",
    "\n",
    "В данных присутствуют записи о поле у 181 записей.\n",
    "Имеются три уникальные записи о поле покупателя.\n",
    "Наиболее часто встречающийся запись - Female, с частотой 102 раз."
   ]
  },
  {
   "cell_type": "code",
   "execution_count": 7,
   "metadata": {},
   "outputs": [
    {
     "name": "stdout",
     "output_type": "stream",
     "text": [
      "number of duplicate rows:  (0, 5)\n"
     ]
    }
   ],
   "source": [
    "# Проверка на дубликаты\n",
    "duplicate_df = df[df.duplicated()]\n",
    "print(\"number of duplicate rows: \", duplicate_df.shape)"
   ]
  },
  {
   "cell_type": "markdown",
   "metadata": {},
   "source": [
    "Дубликатов не обнаружено."
   ]
  },
  {
   "cell_type": "code",
   "execution_count": 8,
   "metadata": {},
   "outputs": [
    {
     "data": {
      "text/plain": [
       "True"
      ]
     },
     "execution_count": 8,
     "metadata": {},
     "output_type": "execute_result"
    }
   ],
   "source": [
    "# Проверка на NaN значения\n",
    "df.isnull().any().any()"
   ]
  },
  {
   "cell_type": "code",
   "execution_count": 9,
   "metadata": {},
   "outputs": [
    {
     "data": {
      "text/plain": [
       "CustomerID                 0\n",
       "Genre                     19\n",
       "Age                       20\n",
       "Annual Income (k$)        20\n",
       "Spending Score (1-100)     0\n",
       "dtype: int64"
      ]
     },
     "execution_count": 9,
     "metadata": {},
     "output_type": "execute_result"
    }
   ],
   "source": [
    "# Проверка на нулевые значения\n",
    "df.isnull().sum()"
   ]
  },
  {
   "cell_type": "code",
   "execution_count": 10,
   "metadata": {},
   "outputs": [
    {
     "data": {
      "image/png": "[encoded data removed]",
      "text/plain": [
       "<Figure size 800x600 with 1 Axes>"
      ]
     },
     "metadata": {},
     "output_type": "display_data"
    }
   ],
   "source": [
    "# Визуализация пропущенных значений (тепловая карта)\n",
    "plt.figure(figsize=(8, 6))\n",
    "sns.heatmap(df.isnull(), cbar=False, cmap='viridis')\n",
    "plt.title('Тепловая карта пропущенных значений')\n",
    "plt.show()"
   ]
  },
  {
   "cell_type": "markdown",
   "metadata": {},
   "source": [
    "Из тепловой матрицы и проверок на пустые, NaN значения видно, что столбики Genre, Age и Annual Income (k$) имеют пропуски/NaN значения.\n",
    "Количество пропущеных значений:\n",
    "\n",
    "Genre                     19 шт\n",
    "\n",
    "Age                       20 шт\n",
    "\n",
    "Annual Income (k$)        20 шт"
   ]
  },
  {
   "cell_type": "markdown",
   "metadata": {},
   "source": [
    "##### Исследуем данные по колонкам:"
   ]
  },
  {
   "cell_type": "code",
   "execution_count": 11,
   "metadata": {},
   "outputs": [],
   "source": [
    "# Удаляем столбец CustomerID \n",
    "df = df.drop('CustomerID', axis=1)"
   ]
  },
  {
   "cell_type": "markdown",
   "metadata": {},
   "source": [
    "Данный столбец CustomerID содержит индивидуальный номер клиента в порядке нумерации от 0 до 199 и не имеет ценности для построения модели или для анализа данных."
   ]
  },
  {
   "cell_type": "code",
   "execution_count": 12,
   "metadata": {},
   "outputs": [
    {
     "data": {
      "text/plain": [
       "Genre\n",
       "Female     102\n",
       "Male        77\n",
       "Feemale      2\n",
       "Name: count, dtype: int64"
      ]
     },
     "execution_count": 12,
     "metadata": {},
     "output_type": "execute_result"
    }
   ],
   "source": [
    "# Уникальные значения и их количество Genre\n",
    "df['Genre'].value_counts()"
   ]
  },
  {
   "cell_type": "markdown",
   "metadata": {},
   "source": [
    "Данный столбец содержит три уникальных пола, причём третий похоже был введён ошибочно, опечатка при заполнениии DF. Также скорее всего имя самого столбца содержит ошибку, однако я её не буду исправлять поскольку таким образом можно повредить фильтры или программный код который опирается на неправильное название, перед исправлением название колонки должна быть поставлена чёткая задача на данное исправление (согласование для бесперебойной работы с DF в последующем). В данной задаче не предусмотрено, что мы должны исправить наименование данного столбца."
   ]
  },
  {
   "cell_type": "code",
   "execution_count": 13,
   "metadata": {},
   "outputs": [
    {
     "data": {
      "text/plain": [
       "Genre\n",
       "Female    104\n",
       "Male       77\n",
       "Name: count, dtype: int64"
      ]
     },
     "execution_count": 13,
     "metadata": {},
     "output_type": "execute_result"
    }
   ],
   "source": [
    "# Исправление опечатки внутри столбца Genre\n",
    "df['Genre'] = df['Genre'].replace({'Feemale': 'Female'})  \n",
    "\n",
    "# Проверяем изменения\n",
    "df['Genre'].value_counts()"
   ]
  },
  {
   "cell_type": "markdown",
   "metadata": {},
   "source": [
    "Исправим опечатки внутри колонки Genre их всего две штуки в любом случае это бы сильно не повлиялобы на модель или анализ данных."
   ]
  },
  {
   "cell_type": "code",
   "execution_count": 14,
   "metadata": {},
   "outputs": [
    {
     "data": {
      "text/plain": [
       "Age\n",
       "32.0     10\n",
       "35.0      8\n",
       "31.0      7\n",
       "30.0      7\n",
       "49.0      7\n",
       "19.0      6\n",
       "40.0      6\n",
       "47.0      6\n",
       "23.0      6\n",
       "27.0      6\n",
       "36.0      5\n",
       "38.0      5\n",
       "48.0      5\n",
       "20.0      4\n",
       "59.0      4\n",
       "18.0      4\n",
       "34.0      4\n",
       "29.0      4\n",
       "54.0      4\n",
       "37.0      3\n",
       "60.0      3\n",
       "43.0      3\n",
       "67.0      3\n",
       "25.0      3\n",
       "39.0      3\n",
       "50.0      3\n",
       "46.0      3\n",
       "33.0      3\n",
       "28.0      3\n",
       "22.0      3\n",
       "24.0      3\n",
       "45.0      3\n",
       "21.0      3\n",
       "68.0      3\n",
       "44.0      2\n",
       "57.0      2\n",
       "26.0      2\n",
       "51.0      2\n",
       "52.0      2\n",
       "135.0     2\n",
       "58.0      2\n",
       "65.0      2\n",
       "53.0      2\n",
       "41.0      2\n",
       "63.0      1\n",
       "70.0      1\n",
       "69.0      1\n",
       "55.0      1\n",
       "66.0      1\n",
       "56.0      1\n",
       "42.0      1\n",
       "Name: count, dtype: int64"
      ]
     },
     "execution_count": 14,
     "metadata": {},
     "output_type": "execute_result"
    }
   ],
   "source": [
    "# Уникальные значения и их количество Age\n",
    "df['Age'].value_counts()"
   ]
  },
  {
   "cell_type": "code",
   "execution_count": 15,
   "metadata": {},
   "outputs": [
    {
     "data": {
      "text/plain": [
       "Annual Income (k$)\n",
       "54.0     11\n",
       "78.0     11\n",
       "63.0      6\n",
       "60.0      6\n",
       "87.0      6\n",
       "         ..\n",
       "37.0      1\n",
       "113.0     1\n",
       "69.0      1\n",
       "76.0      1\n",
       "15.0      1\n",
       "Name: count, Length: 64, dtype: int64"
      ]
     },
     "execution_count": 15,
     "metadata": {},
     "output_type": "execute_result"
    }
   ],
   "source": [
    "# Уникальные значения и их количество\n",
    "df['Annual Income (k$)'].value_counts()"
   ]
  },
  {
   "cell_type": "code",
   "execution_count": 16,
   "metadata": {},
   "outputs": [
    {
     "data": {
      "text/plain": [
       "Spending Score (1-100)\n",
       "42    8\n",
       "55    7\n",
       "46    6\n",
       "73    6\n",
       "35    5\n",
       "     ..\n",
       "31    1\n",
       "44    1\n",
       "53    1\n",
       "65    1\n",
       "18    1\n",
       "Name: count, Length: 84, dtype: int64"
      ]
     },
     "execution_count": 16,
     "metadata": {},
     "output_type": "execute_result"
    }
   ],
   "source": [
    "# Уникальные значения и их количество\n",
    "df['Spending Score (1-100)'].value_counts()"
   ]
  },
  {
   "cell_type": "code",
   "execution_count": 18,
   "metadata": {},
   "outputs": [
    {
     "data": {
      "image/png": "[encoded data removed]",
      "text/plain": [
       "<Figure size 1500x1000 with 3 Axes>"
      ]
     },
     "metadata": {},
     "output_type": "display_data"
    }
   ],
   "source": [
    "# Установка стиля графиков\n",
    "sns.set(style=\"whitegrid\")\n",
    "\n",
    "# Визуализация распределения нескольких выбранных числовых переменных\n",
    "selected_columns = ['Age', 'Annual Income (k$)', 'Spending Score (1-100)']\n",
    "\n",
    "plt.figure(figsize=(15, 10))\n",
    "\n",
    "for i, column in enumerate(selected_columns):\n",
    "    plt.subplot(2, 3, i + 1)\n",
    "    sns.histplot(df[column], kde=True, bins=30)\n",
    "    plt.title(f'Распределение {column}')\n",
    "    plt.xlabel(column)\n",
    "    plt.ylabel('Частота')\n",
    "\n",
    "plt.tight_layout()\n",
    "plt.show()"
   ]
  },
  {
   "cell_type": "markdown",
   "metadata": {},
   "source": [
    "Age — график имеет резкое коолонообразное начало с лева и длинный хвост в право, что говорит о большом количестве клиетов в молодом возрасте. Пик клиентов приходится на возраст от 25 до 36 лет, затем происходит плавный спад выраженый выбросом в 135 лет, что срее всего просто опечатка и единица что следует из графика явно лишняя, скорее всего клиенты в выбросе имеют возраст около 35 лет.\n",
    "\n",
    "Annual Income (k$) — доход имеет явный пик с небольшим выбросом в конце. Это говорит о том, что лишь очень небольшое количество граждан имеет высокий доход, остальные обладают средним доходом.\n",
    "\n",
    "Spending Score (1-100) - Данные распределены более менее равномерно диаграма имеет два пика, что говорит нам о том, что есть две группы клиетов которые хорошо тратят свои деньги. В первом пике от 5 до 15 находятся первая группа клиентов которая не смотря на небольшое количество балов, затем идёт второй пик клиентов от 40 до 60 балов которые больше всего совершают покупок, затем идёт низподающая в право. Из этого можно сделать вывод, что часть клиентов у которых, есть первые накопления стараются как можно быстрее потратить свои балы, поскольку не так часто покупает, что либо, основная часть клиентов старается накопить побольше балов перед покупкой, и оставшиеся часть долго копит балы и совершает покупки лишь когда есть возможность ощутимой скидки это видно на спадающем пике где колона покупок в районе от 77 до 78 так же высока как на максимальном пике."
   ]
  },
  {
   "cell_type": "code",
   "execution_count": 19,
   "metadata": {},
   "outputs": [
    {
     "data": {
      "image/png": "[encoded data removed]",
      "text/plain": [
       "<Figure size 1000x600 with 1 Axes>"
      ]
     },
     "metadata": {},
     "output_type": "display_data"
    }
   ],
   "source": [
    "# Прямоугольные графики для визуализации распределений и потенциальных выбросов\n",
    "plt.figure(figsize=(10, 6))\n",
    "sns.boxplot(data=df[['Age', 'Annual Income (k$)', 'Spending Score (1-100)']])\n",
    "plt.title(\"Прямоугольные графики числовых характеристик\")\n",
    "plt.show()"
   ]
  },
  {
   "cell_type": "markdown",
   "metadata": {},
   "source": [
    "В колонках Age и Annual Income (k$) наблюдаются выбросы, причём в последней достаточно серьёзный."
   ]
  },
  {
   "cell_type": "code",
   "execution_count": 20,
   "metadata": {},
   "outputs": [
    {
     "data": {
      "image/png": "[encoded data removed]",
      "text/plain": [
       "<Figure size 600x400 with 1 Axes>"
      ]
     },
     "metadata": {},
     "output_type": "display_data"
    }
   ],
   "source": [
    "# Проверка баланса категириональных признаков\n",
    "plt.figure(figsize=(6, 4))\n",
    "sns.countplot(x='Genre', data=df)\n",
    "plt.title(\"Распределение Genre\")\n",
    "plt.show()"
   ]
  },
  {
   "cell_type": "markdown",
   "metadata": {},
   "source": [
    "Можем наблюдать что сильный дисбаланс между классами отсуствует, благодаря тому, что мы исправили опечатки."
   ]
  },
  {
   "cell_type": "markdown",
   "metadata": {
    "id": "f2D8MlDlHvL4"
   },
   "source": [
    "### Задание 3\n",
    "\n",
    "Разделите данные на обучающую и тестовую выборки в пропорции 80:20. Здесь и далее используйте random_state = 1."
   ]
  },
  {
   "cell_type": "code",
   "execution_count": 21,
   "metadata": {
    "id": "7YwL8vOzICNY"
   },
   "outputs": [
    {
     "name": "stdout",
     "output_type": "stream",
     "text": [
      "Размер обучающего набора: (160, 3)\n",
      "Размер тестового набора: (40, 3)\n"
     ]
    }
   ],
   "source": [
    "# Определение независимых и зависимых переменных\n",
    "X = df.drop([\"Spending Score (1-100)\"], axis=1) # Независимые переменные\n",
    "y = df['Spending Score (1-100)']  # Зависимая переменная\n",
    "\n",
    "# Разделение данных на обучающую и тестовую выборки\n",
    "X_train, X_test, y_train, y_test = train_test_split(X, y, test_size=0.2, random_state=1)\n",
    "\n",
    "# Выводим размеры\n",
    "print(\"Размер обучающего набора:\", X_train.shape)\n",
    "print(\"Размер тестового набора:\", X_test.shape)"
   ]
  },
  {
   "cell_type": "markdown",
   "metadata": {
    "id": "pmzNU3XqICuX"
   },
   "source": [
    "### Задание 4\n",
    "\n",
    "Заполните пропуски в признаках в обучающей выборке с использованием инструментов sklearn. Для каждого признака выберите и аргументируйте стратегию заполнения пропусков."
   ]
  },
  {
   "cell_type": "code",
   "execution_count": 22,
   "metadata": {},
   "outputs": [
    {
     "name": "stdout",
     "output_type": "stream",
     "text": [
      "Genre                 0\n",
      "Age                   0\n",
      "Annual Income (k$)    0\n",
      "dtype: int64\n"
     ]
    }
   ],
   "source": [
    "# Заполнение пропусков в 'Genre' с использованием моды\n",
    "genre_median = SimpleImputer(strategy='most_frequent')\n",
    "X_train['Genre'] = genre_median.fit_transform(X_train['Genre'].values.reshape(-1, 1)).ravel()\n",
    "\n",
    "# Заполнение пропусков в 'Age' и 'Annual Income (k$)' с использованием медианы\n",
    "other_median = SimpleImputer(strategy='median')\n",
    "X_train[['Age', 'Annual Income (k$)']] = other_median.fit_transform(X_train[['Age', 'Annual Income (k$)']])\n",
    "\n",
    "# Проверка результата\n",
    "print(X_train.isnull().sum())"
   ]
  },
  {
   "cell_type": "code",
   "execution_count": 23,
   "metadata": {},
   "outputs": [
    {
     "data": {
      "image/png": "[encoded data removed]",
      "text/plain": [
       "<Figure size 800x600 with 1 Axes>"
      ]
     },
     "metadata": {},
     "output_type": "display_data"
    }
   ],
   "source": [
    "# Визуализация пропущенных значений (тепловая карта)\n",
    "plt.figure(figsize=(8, 6))\n",
    "sns.heatmap(X_train.isnull(), cbar=False, cmap='viridis')\n",
    "plt.title('Тепловая карта пропущенных значений')\n",
    "plt.show()"
   ]
  },
  {
   "cell_type": "markdown",
   "metadata": {},
   "source": [
    "Genre - поскольку это категорианальный признак заполнение модой позволит сохранить наиболее часто врстречающееся значение.\n",
    "\n",
    "Age и Anual Income (k$) - Средние значние может быть чувствительно к выбросам которые наблюдаются в обоих колонках, по этому лучше использовать медиану, которая более устойчива к аномалиям."
   ]
  },
  {
   "cell_type": "markdown",
   "metadata": {
    "id": "dG06N3kJIZ9A"
   },
   "source": [
    "### Задание 5\n",
    "\n",
    "Найдите выбросы в признаках обучающей выборки. Замените выбросы, если таковые имеются, и аргументируйте выбор метода поиска выбросов.\n"
   ]
  },
  {
   "cell_type": "code",
   "execution_count": 24,
   "metadata": {},
   "outputs": [
    {
     "name": "stdout",
     "output_type": "stream",
     "text": [
      "      Genre   Age  Annual Income (k$)\n",
      "108    Male  68.0                63.0\n",
      "107    Male  54.0                63.0\n",
      "189  Female  36.0               103.0\n",
      "14     Male  37.0                20.0\n",
      "56   Female  51.0                44.0\n",
      "..      ...   ...                 ...\n",
      "133  Female  31.0                72.0\n",
      "137    Male  32.0                73.0\n",
      "72   Female  60.0                50.0\n",
      "140  Female  57.0                75.0\n",
      "37   Female  30.0                34.0\n",
      "\n",
      "[160 rows x 3 columns]\n"
     ]
    }
   ],
   "source": [
    "def replace_outliers_with_median(X_train, column):\n",
    "    # Вычисление Q1 и Q3\n",
    "    Q1 = X_train[column].quantile(0.25)\n",
    "    Q3 = X_train[column].quantile(0.75)\n",
    "    IQR = Q3 - Q1\n",
    "    \n",
    "    # Определение границ для выбросов\n",
    "    lower_bound = Q1 - 1.5 * IQR\n",
    "    upper_bound = Q3 + 1.5 * IQR\n",
    "    \n",
    "    # Замена выбросов на медиану\n",
    "    median_value = X_train[column].median()\n",
    "    X_train[column] = np.where((X_train[column] < lower_bound) | (X_train[column] > upper_bound), median_value, X_train[column])\n",
    "\n",
    "# Применение функции к каждому столбцу\n",
    "for col in ['Age', 'Annual Income (k$)']:\n",
    "    replace_outliers_with_median(X_train, col)\n",
    "\n",
    "# Проверка результата\n",
    "print(X_train)"
   ]
  },
  {
   "cell_type": "code",
   "execution_count": 25,
   "metadata": {},
   "outputs": [
    {
     "name": "stdout",
     "output_type": "stream",
     "text": [
      "Empty DataFrame\n",
      "Columns: [Genre, Age, Annual Income (k$)]\n",
      "Index: []\n"
     ]
    }
   ],
   "source": [
    "# Проверяем, что аномальные значения были заменены\n",
    "print(X_train[X_train['Age'] > 90])"
   ]
  },
  {
   "cell_type": "code",
   "execution_count": 33,
   "metadata": {},
   "outputs": [
    {
     "name": "stdout",
     "output_type": "stream",
     "text": [
      "      Genre   Age  Annual Income (k$)\n",
      "108    Male  68.0                63.0\n",
      "107    Male  54.0                63.0\n",
      "189  Female  36.0               103.0\n",
      "14     Male  37.0                20.0\n",
      "56   Female  51.0                44.0\n",
      "..      ...   ...                 ...\n",
      "133  Female  31.0                72.0\n",
      "137    Male  32.0                73.0\n",
      "72   Female  60.0                50.0\n",
      "140  Female  57.0                75.0\n",
      "37   Female  30.0                34.0\n",
      "\n",
      "[160 rows x 3 columns]\n"
     ]
    }
   ],
   "source": [
    "def replace_outliers_with_median(df, column):\n",
    "    # Проверка наличия столбца\n",
    "    if column not in df.columns:\n",
    "        print(f\"Столбец '{column}' не найден.\")\n",
    "        return\n",
    "    \n",
    "    # Вычисление Q1 и Q3\n",
    "    Q1 = df[column].quantile(0.25)\n",
    "    Q3 = df[column].quantile(0.75)\n",
    "    IQR = Q3 - Q1\n",
    "    \n",
    "    # Определение границ для выбросов\n",
    "    lower_bound = Q1 - 1.5 * IQR\n",
    "    upper_bound = Q3 + 1.5 * IQR\n",
    "    \n",
    "    # Замена выбросов на медиану\n",
    "    median_value = df[column].median()\n",
    "    df[column] = np.where((df[column] < lower_bound) | (df[column] > upper_bound), median_value, df[column])\n",
    "\n",
    "# Применение функции к каждому столбцу\n",
    "for col in ['Age', 'Annual Income (k$)']:\n",
    "    replace_outliers_with_median(X_train, col)\n",
    "\n",
    "    # Проверка результата\n",
    "print(X_train)"
   ]
  },
  {
   "cell_type": "code",
   "execution_count": 25,
   "metadata": {
    "id": "TTcePy4bI1ab"
   },
   "outputs": [],
   "source": [
    "### YOUR CODE HERE ###\n"
   ]
  },
  {
   "cell_type": "markdown",
   "metadata": {
    "id": "4iZFKDQ7I2LZ"
   },
   "source": [
    "### Задание 6\n",
    "\n",
    "Нормализуйте численные признаки. Аргументируйте выбор стратегии нормализации для каждого признака.\n"
   ]
  },
  {
   "cell_type": "code",
   "execution_count": 26,
   "metadata": {
    "id": "gSLKHnlYI-bf"
   },
   "outputs": [
    {
     "name": "stdout",
     "output_type": "stream",
     "text": [
      "      Genre       Age  Annual Income (k$)\n",
      "108    Male  2.288093            0.545455\n",
      "107    Male  1.208167            0.545455\n",
      "189  Female -0.180309            1.000000\n",
      "14     Male -0.103171            0.056818\n",
      "56   Female  0.976754            0.329545\n",
      "..      ...       ...                 ...\n",
      "133  Female -0.565997            0.647727\n",
      "137    Male -0.488859            0.659091\n",
      "72   Female  1.670992            0.397727\n",
      "140  Female  1.439580            0.681818\n",
      "37   Female -0.643134            0.215909\n",
      "\n",
      "[160 rows x 3 columns]\n"
     ]
    }
   ],
   "source": [
    "# Функция для Z-нормализации\n",
    "def z_normalize(column):\n",
    "    return (column - column.mean()) / column.std()\n",
    "\n",
    "# Функция для Мини-Max нормализации\n",
    "def min_max_normalize(column):\n",
    "    return (column - column.min()) / (column.max() - column.min())\n",
    "\n",
    "# Нормализация признака Age (Z-нормализация)\n",
    "X_train['Age'] = z_normalize(X_train['Age'])\n",
    "\n",
    "# Нормализация признака Annual Income (k$) (Мини-Max нормализация)\n",
    "X_train['Annual Income (k$)'] = min_max_normalize(X_train['Annual Income (k$)'])\n",
    "\n",
    "# Проверка результата\n",
    "print(X_train)"
   ]
  },
  {
   "cell_type": "markdown",
   "metadata": {
    "id": "MwEFsRNnI_Ar"
   },
   "source": [
    "### Задание 7\n",
    "\n",
    "Закодируйте категориальные признаки в обучающей выборке. Аргументируйте выбор способа кодирования."
   ]
  },
  {
   "cell_type": "code",
   "execution_count": 27,
   "metadata": {
    "id": "Ypo6y1iMJHeL"
   },
   "outputs": [],
   "source": [
    "### YOUR CODE HERE ###\n"
   ]
  },
  {
   "cell_type": "markdown",
   "metadata": {
    "id": "mT9hsPltJJ2z"
   },
   "source": [
    "### Задание 8\n",
    "Проведите очистку и подготовку тестовых данных. Используйте препроцессоры и другие инструменты, которые вы уже использовали при подготовке обучающей выборки, без их дополнительной настройки."
   ]
  },
  {
   "cell_type": "code",
   "execution_count": null,
   "metadata": {
    "id": "swiT9IQlziSs"
   },
   "outputs": [],
   "source": [
    "import pandas as pd\n",
    "from sklearn.preprocessing import LabelEncoder\n",
    "\n",
    "# 1. Очистка данных\n",
    "# Заполнение пропущенных значений средними значениями для числовых признаков\n",
    "X_test['Age'].fillna(X_test['Age'].mean(), inplace=True)\n",
    "X_test['Annual Income (k$)'].fillna(X_test['Annual Income (k$)'].mean(), inplace=True)\n",
    "\n",
    "# Заполнение пропущенных значений модой для категориальных признаков\n",
    "X_test['Education Level'].fillna(X_test['Education Level'].mode()[0], inplace=True)\n",
    "\n",
    "# 2. Кодирование категориальных признаков\n",
    "# One-Hot Encoding для 'City'\n",
    "X_test = pd.get_dummies(X_test, columns=['City'], drop_first=True)\n",
    "\n",
    "# Label Encoding для 'Education Level'\n",
    "le = LabelEncoder()\n",
    "X_test['Education Level'] = le.fit_transform(X_test['Education Level'])\n",
    "\n",
    "# 3. Нормализация численных признаков\n",
    "# Используем Z-нормализацию для 'Age'\n",
    "X_test['Age'] = (X_test['Age'] - X_test['Age'].mean()) / X_test['Age'].std()\n",
    "\n",
    "# Используем Min-Max нормализацию для 'Annual Income (k$)'\n",
    "X_test['Annual Income (k$)'] = (X_test['Annual Income (k$)'] - X_test['Annual Income (k$)'].min()) / (\n",
    "    X_test['Annual Income (k$)'].max() - X_test['Annual Income (k$)'].min())\n",
    "\n",
    "# Проверка результата\n",
    "print(X_test)\n"
   ]
  }
 ],
 "metadata": {
  "colab": {
   "provenance": []
  },
  "gpuClass": "standard",
  "kernelspec": {
   "display_name": "Python 3",
   "name": "python3"
  },
  "language_info": {
   "codemirror_mode": {
    "name": "ipython",
    "version": 3
   },
   "file_extension": ".py",
   "mimetype": "text/x-python",
   "name": "python",
   "nbconvert_exporter": "python",
   "pygments_lexer": "ipython3",
   "version": "3.10.0rc2"
  }
 },
 "nbformat": 4,
 "nbformat_minor": 0
}
