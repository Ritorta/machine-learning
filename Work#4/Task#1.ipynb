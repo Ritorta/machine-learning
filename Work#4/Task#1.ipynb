{
 "cells": [
  {
   "cell_type": "markdown",
   "metadata": {
    "id": "CIu2DPx5tWcg"
   },
   "source": [
    "# Машинное обучение (семинары)"
   ]
  },
  {
   "cell_type": "markdown",
   "metadata": {},
   "source": [
    "### Урок 4. Метод опорных векторов на практике\n",
    "\n",
    "#### Домашние задание:\n",
    "\n",
    "Выполните все пункты задания по ссылке (Скопировано в Task#1).\n",
    "\n",
    "Краткое описание: в этом задании вам нужно будет обучить несколько моделей и сделать важные выводы. Более подробная информация — в блокноте.\n",
    "\n",
    "Наборы данных: TestData.csv и TrainData.csv.\n"
   ]
  },
  {
   "cell_type": "markdown",
   "metadata": {
    "id": "ENiWYl_EtWcm"
   },
   "source": [
    "### 1. Загрузите тренировочные и тестовые датасеты"
   ]
  },
  {
   "cell_type": "code",
   "execution_count": 145,
   "metadata": {
    "id": "_uf-KNwQtWcn"
   },
   "outputs": [],
   "source": [
    "import numpy as np\n",
    "import pandas as pd\n",
    "import matplotlib.pyplot as plt\n",
    "from sklearn.model_selection import train_test_split,  cross_val_score\n",
    "from sklearn.linear_model import LogisticRegression\n",
    "from sklearn.svm import SVC\n",
    "from sklearn.metrics import f1_score, accuracy_score, classification_report\n",
    "\n",
    "# Загрузка данных из файла\n",
    "df_Xtrain = pd.read_csv(\"TrainData.csv\")\n",
    "df_Xtest = pd.read_csv(\"TestData.csv\")"
   ]
  },
  {
   "cell_type": "code",
   "execution_count": 3,
   "metadata": {},
   "outputs": [
    {
     "data": {
      "text/html": [
       "<div>\n",
       "<style scoped>\n",
       "    .dataframe tbody tr th:only-of-type {\n",
       "        vertical-align: middle;\n",
       "    }\n",
       "\n",
       "    .dataframe tbody tr th {\n",
       "        vertical-align: top;\n",
       "    }\n",
       "\n",
       "    .dataframe thead th {\n",
       "        text-align: right;\n",
       "    }\n",
       "</style>\n",
       "<table border=\"1\" class=\"dataframe\">\n",
       "  <thead>\n",
       "    <tr style=\"text-align: right;\">\n",
       "      <th></th>\n",
       "      <th>f1</th>\n",
       "      <th>f2</th>\n",
       "      <th>f3</th>\n",
       "      <th>f4</th>\n",
       "      <th>f5</th>\n",
       "      <th>f6</th>\n",
       "      <th>f7</th>\n",
       "      <th>f8</th>\n",
       "      <th>f9</th>\n",
       "      <th>f10</th>\n",
       "      <th>f11</th>\n",
       "      <th>f12</th>\n",
       "      <th>f13</th>\n",
       "      <th>f14</th>\n",
       "      <th>target</th>\n",
       "    </tr>\n",
       "  </thead>\n",
       "  <tbody>\n",
       "    <tr>\n",
       "      <th>0</th>\n",
       "      <td>50</td>\n",
       "      <td>218.593930</td>\n",
       "      <td>273536</td>\n",
       "      <td>0.104575</td>\n",
       "      <td>4</td>\n",
       "      <td>0.445026</td>\n",
       "      <td>0.274531</td>\n",
       "      <td>0.444334</td>\n",
       "      <td>5.970149</td>\n",
       "      <td>0.300298</td>\n",
       "      <td>0.0</td>\n",
       "      <td>0</td>\n",
       "      <td>49</td>\n",
       "      <td>0.100000</td>\n",
       "      <td>0</td>\n",
       "    </tr>\n",
       "    <tr>\n",
       "      <th>1</th>\n",
       "      <td>32</td>\n",
       "      <td>276.771005</td>\n",
       "      <td>173314</td>\n",
       "      <td>0.224684</td>\n",
       "      <td>11</td>\n",
       "      <td>0.445026</td>\n",
       "      <td>0.439103</td>\n",
       "      <td>0.444334</td>\n",
       "      <td>5.970149</td>\n",
       "      <td>0.300298</td>\n",
       "      <td>0.0</td>\n",
       "      <td>0</td>\n",
       "      <td>60</td>\n",
       "      <td>0.244418</td>\n",
       "      <td>0</td>\n",
       "    </tr>\n",
       "    <tr>\n",
       "      <th>2</th>\n",
       "      <td>38</td>\n",
       "      <td>218.593930</td>\n",
       "      <td>28887</td>\n",
       "      <td>0.032491</td>\n",
       "      <td>7</td>\n",
       "      <td>0.445026</td>\n",
       "      <td>0.274531</td>\n",
       "      <td>0.444334</td>\n",
       "      <td>25.606721</td>\n",
       "      <td>0.300298</td>\n",
       "      <td>0.0</td>\n",
       "      <td>0</td>\n",
       "      <td>50</td>\n",
       "      <td>0.244418</td>\n",
       "      <td>0</td>\n",
       "    </tr>\n",
       "    <tr>\n",
       "      <th>3</th>\n",
       "      <td>19</td>\n",
       "      <td>218.593930</td>\n",
       "      <td>427862</td>\n",
       "      <td>0.179322</td>\n",
       "      <td>10</td>\n",
       "      <td>0.049127</td>\n",
       "      <td>0.044987</td>\n",
       "      <td>0.009499</td>\n",
       "      <td>25.606721</td>\n",
       "      <td>0.300298</td>\n",
       "      <td>0.0</td>\n",
       "      <td>0</td>\n",
       "      <td>35</td>\n",
       "      <td>0.244418</td>\n",
       "      <td>0</td>\n",
       "    </tr>\n",
       "    <tr>\n",
       "      <th>4</th>\n",
       "      <td>44</td>\n",
       "      <td>218.593930</td>\n",
       "      <td>109339</td>\n",
       "      <td>0.032491</td>\n",
       "      <td>7</td>\n",
       "      <td>0.098837</td>\n",
       "      <td>0.115721</td>\n",
       "      <td>0.066581</td>\n",
       "      <td>5.970149</td>\n",
       "      <td>0.113590</td>\n",
       "      <td>0.0</td>\n",
       "      <td>0</td>\n",
       "      <td>46</td>\n",
       "      <td>0.185185</td>\n",
       "      <td>0</td>\n",
       "    </tr>\n",
       "  </tbody>\n",
       "</table>\n",
       "</div>"
      ],
      "text/plain": [
       "   f1          f2      f3        f4  f5        f6        f7        f8  \\\n",
       "0  50  218.593930  273536  0.104575   4  0.445026  0.274531  0.444334   \n",
       "1  32  276.771005  173314  0.224684  11  0.445026  0.439103  0.444334   \n",
       "2  38  218.593930   28887  0.032491   7  0.445026  0.274531  0.444334   \n",
       "3  19  218.593930  427862  0.179322  10  0.049127  0.044987  0.009499   \n",
       "4  44  218.593930  109339  0.032491   7  0.098837  0.115721  0.066581   \n",
       "\n",
       "          f9       f10  f11  f12  f13       f14  target  \n",
       "0   5.970149  0.300298  0.0    0   49  0.100000       0  \n",
       "1   5.970149  0.300298  0.0    0   60  0.244418       0  \n",
       "2  25.606721  0.300298  0.0    0   50  0.244418       0  \n",
       "3  25.606721  0.300298  0.0    0   35  0.244418       0  \n",
       "4   5.970149  0.113590  0.0    0   46  0.185185       0  "
      ]
     },
     "execution_count": 3,
     "metadata": {},
     "output_type": "execute_result"
    }
   ],
   "source": [
    "df_Xtrain.head()"
   ]
  },
  {
   "cell_type": "code",
   "execution_count": 4,
   "metadata": {
    "id": "sqevAjp-tWcr"
   },
   "outputs": [
    {
     "name": "stdout",
     "output_type": "stream",
     "text": [
      "<class 'pandas.core.frame.DataFrame'>\n",
      "RangeIndex: 7500 entries, 0 to 7499\n",
      "Data columns (total 15 columns):\n",
      " #   Column  Non-Null Count  Dtype  \n",
      "---  ------  --------------  -----  \n",
      " 0   f1      7500 non-null   int64  \n",
      " 1   f2      7425 non-null   float64\n",
      " 2   f3      7500 non-null   int64  \n",
      " 3   f4      7500 non-null   float64\n",
      " 4   f5      7500 non-null   int64  \n",
      " 5   f6      7500 non-null   float64\n",
      " 6   f7      5625 non-null   float64\n",
      " 7   f8      7500 non-null   float64\n",
      " 8   f9      7500 non-null   float64\n",
      " 9   f10     7500 non-null   float64\n",
      " 10  f11     7490 non-null   float64\n",
      " 11  f12     7500 non-null   int64  \n",
      " 12  f13     7500 non-null   int64  \n",
      " 13  f14     7500 non-null   float64\n",
      " 14  target  7500 non-null   int64  \n",
      "dtypes: float64(9), int64(6)\n",
      "memory usage: 879.0 KB\n"
     ]
    }
   ],
   "source": [
    "df_Xtrain.info()"
   ]
  },
  {
   "cell_type": "markdown",
   "metadata": {},
   "source": [
    "Из общей информации df_Xtrain следует:\n",
    "\n",
    "DataFrame содержит 7500 записей (от индекса 0 до 7499)\n",
    "\n",
    "Всего 15 колонок\n",
    "\n",
    "Нулевые значения отсуствуют\n",
    "\n",
    "Пропущенные значения присуствуют в столбиках f2, f7, f11"
   ]
  },
  {
   "cell_type": "code",
   "execution_count": 23,
   "metadata": {},
   "outputs": [
    {
     "name": "stdout",
     "output_type": "stream",
     "text": [
      "number of duplicate rows:  (0, 15)\n"
     ]
    }
   ],
   "source": [
    "duplicate_df_Xtrain = df_Xtrain[df_Xtrain.duplicated()]\n",
    "print(\"number of duplicate rows: \", duplicate_df_Xtrain.shape)"
   ]
  },
  {
   "cell_type": "markdown",
   "metadata": {},
   "source": [
    "Дубликаты отсуствуют в DataFrame"
   ]
  },
  {
   "cell_type": "code",
   "execution_count": 26,
   "metadata": {},
   "outputs": [
    {
     "data": {
      "text/plain": [
       "True"
      ]
     },
     "execution_count": 26,
     "metadata": {},
     "output_type": "execute_result"
    }
   ],
   "source": [
    "# Проверка на NaN значения\n",
    "df_Xtrain.isnull().any().any()"
   ]
  },
  {
   "cell_type": "code",
   "execution_count": 25,
   "metadata": {},
   "outputs": [
    {
     "data": {
      "text/plain": [
       "f1           0\n",
       "f2          75\n",
       "f3           0\n",
       "f4           0\n",
       "f5           0\n",
       "f6           0\n",
       "f7        1875\n",
       "f8           0\n",
       "f9           0\n",
       "f10          0\n",
       "f11         10\n",
       "f12          0\n",
       "f13          0\n",
       "f14          0\n",
       "target       0\n",
       "dtype: int64"
      ]
     },
     "execution_count": 25,
     "metadata": {},
     "output_type": "execute_result"
    }
   ],
   "source": [
    "# Проверка на нулевые значения\n",
    "df_Xtrain.isnull().sum()"
   ]
  },
  {
   "cell_type": "markdown",
   "metadata": {},
   "source": [
    "В DataFrame присуствуют нулевые значения, для работы сним для начала их нужно обработать, поскольку DataFrame не несёт какой либо целевой информации предпологаю, что самум лучшим вариантом будет заполниить NaN средними значениями (медианами)."
   ]
  },
  {
   "cell_type": "code",
   "execution_count": 27,
   "metadata": {},
   "outputs": [
    {
     "name": "stdout",
     "output_type": "stream",
     "text": [
      "Исходный DataFrame:\n",
      "      f1          f2      f3        f4  f5        f6        f7        f8  \\\n",
      "0     50  218.593930  273536  0.104575   4  0.445026  0.274531  0.444334   \n",
      "1     32  276.771005  173314  0.224684  11  0.445026  0.439103  0.444334   \n",
      "2     38  218.593930   28887  0.032491   7  0.445026  0.274531  0.444334   \n",
      "3     19  218.593930  427862  0.179322  10  0.049127  0.044987  0.009499   \n",
      "4     44  218.593930  109339  0.032491   7  0.098837  0.115721  0.066581   \n",
      "...   ..         ...     ...       ...  ..       ...       ...       ...   \n",
      "7495  48  218.593930  329778  0.171817   9  0.066372       NaN  0.066581   \n",
      "7496  25  218.593930  104439  0.179322  10  0.049127  0.131370  0.103024   \n",
      "7497  50  218.593930  162632  0.171817   9  0.445026  0.482222  0.444334   \n",
      "7498  51  276.771005  174824  0.171817   9  0.049127  0.093897  0.103024   \n",
      "7499  29  263.691684  180916  0.179322  10  0.066390  0.131370  0.066581   \n",
      "\n",
      "             f9       f10     f11  f12  f13       f14  target  \n",
      "0      5.970149  0.300298     0.0    0   49  0.100000       0  \n",
      "1      5.970149  0.300298     0.0    0   60  0.244418       0  \n",
      "2     25.606721  0.300298     0.0    0   50  0.244418       0  \n",
      "3     25.606721  0.300298     0.0    0   35  0.244418       0  \n",
      "4      5.970149  0.113590     0.0    0   46  0.185185       0  \n",
      "...         ...       ...     ...  ...  ...       ...     ...  \n",
      "7495  25.606721  0.113590     0.0    0   40  0.244418       0  \n",
      "7496  25.606721  0.113590     0.0    0   50  0.244418       0  \n",
      "7497  25.606721  0.300298     0.0    0   45  0.244418       0  \n",
      "7498  25.606721  0.300298  8614.0    0   40  0.244418       1  \n",
      "7499  25.606721  0.113590     0.0    0   38  0.244418       0  \n",
      "\n",
      "[7500 rows x 15 columns]\n",
      "\n",
      "DataFrame после заполнения медианами:\n",
      "      f1          f2      f3        f4  f5        f6        f7        f8  \\\n",
      "0     50  218.593930  273536  0.104575   4  0.445026  0.274531  0.444334   \n",
      "1     32  276.771005  173314  0.224684  11  0.445026  0.439103  0.444334   \n",
      "2     38  218.593930   28887  0.032491   7  0.445026  0.274531  0.444334   \n",
      "3     19  218.593930  427862  0.179322  10  0.049127  0.044987  0.009499   \n",
      "4     44  218.593930  109339  0.032491   7  0.098837  0.115721  0.066581   \n",
      "...   ..         ...     ...       ...  ..       ...       ...       ...   \n",
      "7495  48  218.593930  329778  0.171817   9  0.066372  0.241573  0.066581   \n",
      "7496  25  218.593930  104439  0.179322  10  0.049127  0.131370  0.103024   \n",
      "7497  50  218.593930  162632  0.171817   9  0.445026  0.482222  0.444334   \n",
      "7498  51  276.771005  174824  0.171817   9  0.049127  0.093897  0.103024   \n",
      "7499  29  263.691684  180916  0.179322  10  0.066390  0.131370  0.066581   \n",
      "\n",
      "             f9       f10     f11  f12  f13       f14  target  \n",
      "0      5.970149  0.300298     0.0    0   49  0.100000       0  \n",
      "1      5.970149  0.300298     0.0    0   60  0.244418       0  \n",
      "2     25.606721  0.300298     0.0    0   50  0.244418       0  \n",
      "3     25.606721  0.300298     0.0    0   35  0.244418       0  \n",
      "4      5.970149  0.113590     0.0    0   46  0.185185       0  \n",
      "...         ...       ...     ...  ...  ...       ...     ...  \n",
      "7495  25.606721  0.113590     0.0    0   40  0.244418       0  \n",
      "7496  25.606721  0.113590     0.0    0   50  0.244418       0  \n",
      "7497  25.606721  0.300298     0.0    0   45  0.244418       0  \n",
      "7498  25.606721  0.300298  8614.0    0   40  0.244418       1  \n",
      "7499  25.606721  0.113590     0.0    0   38  0.244418       0  \n",
      "\n",
      "[7500 rows x 15 columns]\n"
     ]
    }
   ],
   "source": [
    "# создаём новый DataFrame который будет содержать заполнение медианами\n",
    "median_df_Xtrain = pd.DataFrame(df_Xtrain)\n",
    "\n",
    "# Заполнение NaN медианами соответствующих столбцов\n",
    "fix_df_Xtrain = median_df_Xtrain.fillna(median_df_Xtrain.median())\n",
    "\n",
    "print(\"Исходный DataFrame:\")\n",
    "print(median_df_Xtrain)\n",
    "print(\"\\nDataFrame после заполнения медианами:\")\n",
    "print(fix_df_Xtrain)"
   ]
  },
  {
   "cell_type": "code",
   "execution_count": 28,
   "metadata": {},
   "outputs": [
    {
     "data": {
      "text/plain": [
       "False"
      ]
     },
     "execution_count": 28,
     "metadata": {},
     "output_type": "execute_result"
    }
   ],
   "source": [
    "# Проверка на NaN значения\n",
    "fix_df_Xtrain.isnull().any().any()"
   ]
  },
  {
   "cell_type": "code",
   "execution_count": 29,
   "metadata": {},
   "outputs": [
    {
     "data": {
      "text/plain": [
       "f1        0\n",
       "f2        0\n",
       "f3        0\n",
       "f4        0\n",
       "f5        0\n",
       "f6        0\n",
       "f7        0\n",
       "f8        0\n",
       "f9        0\n",
       "f10       0\n",
       "f11       0\n",
       "f12       0\n",
       "f13       0\n",
       "f14       0\n",
       "target    0\n",
       "dtype: int64"
      ]
     },
     "execution_count": 29,
     "metadata": {},
     "output_type": "execute_result"
    }
   ],
   "source": [
    "# Проверка на нулевые значения\n",
    "fix_df_Xtrain.isnull().sum()"
   ]
  },
  {
   "cell_type": "code",
   "execution_count": 33,
   "metadata": {},
   "outputs": [
    {
     "name": "stdout",
     "output_type": "stream",
     "text": [
      "<class 'pandas.core.frame.DataFrame'>\n",
      "RangeIndex: 7500 entries, 0 to 7499\n",
      "Data columns (total 15 columns):\n",
      " #   Column  Non-Null Count  Dtype  \n",
      "---  ------  --------------  -----  \n",
      " 0   f1      7500 non-null   int64  \n",
      " 1   f2      7500 non-null   float64\n",
      " 2   f3      7500 non-null   int64  \n",
      " 3   f4      7500 non-null   float64\n",
      " 4   f5      7500 non-null   int64  \n",
      " 5   f6      7500 non-null   float64\n",
      " 6   f7      7500 non-null   float64\n",
      " 7   f8      7500 non-null   float64\n",
      " 8   f9      7500 non-null   float64\n",
      " 9   f10     7500 non-null   float64\n",
      " 10  f11     7500 non-null   float64\n",
      " 11  f12     7500 non-null   int64  \n",
      " 12  f13     7500 non-null   int64  \n",
      " 13  f14     7500 non-null   float64\n",
      " 14  target  7500 non-null   int64  \n",
      "dtypes: float64(9), int64(6)\n",
      "memory usage: 879.0 KB\n"
     ]
    }
   ],
   "source": [
    "fix_df_Xtrain.info()"
   ]
  },
  {
   "cell_type": "markdown",
   "metadata": {},
   "source": [
    "После проверки, видим, что все столбики заполнены."
   ]
  },
  {
   "cell_type": "code",
   "execution_count": 5,
   "metadata": {},
   "outputs": [
    {
     "data": {
      "text/html": [
       "<div>\n",
       "<style scoped>\n",
       "    .dataframe tbody tr th:only-of-type {\n",
       "        vertical-align: middle;\n",
       "    }\n",
       "\n",
       "    .dataframe tbody tr th {\n",
       "        vertical-align: top;\n",
       "    }\n",
       "\n",
       "    .dataframe thead th {\n",
       "        text-align: right;\n",
       "    }\n",
       "</style>\n",
       "<table border=\"1\" class=\"dataframe\">\n",
       "  <thead>\n",
       "    <tr style=\"text-align: right;\">\n",
       "      <th></th>\n",
       "      <th>count</th>\n",
       "      <th>mean</th>\n",
       "      <th>std</th>\n",
       "      <th>min</th>\n",
       "      <th>25%</th>\n",
       "      <th>50%</th>\n",
       "      <th>75%</th>\n",
       "      <th>max</th>\n",
       "    </tr>\n",
       "  </thead>\n",
       "  <tbody>\n",
       "    <tr>\n",
       "      <th>f1</th>\n",
       "      <td>7500.0</td>\n",
       "      <td>38.579600</td>\n",
       "      <td>13.647719</td>\n",
       "      <td>17.000000</td>\n",
       "      <td>28.000000</td>\n",
       "      <td>37.000000</td>\n",
       "      <td>47.000000</td>\n",
       "      <td>9.000000e+01</td>\n",
       "    </tr>\n",
       "    <tr>\n",
       "      <th>f2</th>\n",
       "      <td>7425.0</td>\n",
       "      <td>238.905308</td>\n",
       "      <td>76.198282</td>\n",
       "      <td>64.259070</td>\n",
       "      <td>218.593930</td>\n",
       "      <td>218.593930</td>\n",
       "      <td>218.593930</td>\n",
       "      <td>5.753968e+02</td>\n",
       "    </tr>\n",
       "    <tr>\n",
       "      <th>f3</th>\n",
       "      <td>7500.0</td>\n",
       "      <td>190384.986800</td>\n",
       "      <td>105867.442524</td>\n",
       "      <td>19302.000000</td>\n",
       "      <td>118019.000000</td>\n",
       "      <td>179568.500000</td>\n",
       "      <td>239441.750000</td>\n",
       "      <td>1.226583e+06</td>\n",
       "    </tr>\n",
       "    <tr>\n",
       "      <th>f4</th>\n",
       "      <td>7500.0</td>\n",
       "      <td>0.238933</td>\n",
       "      <td>0.151738</td>\n",
       "      <td>0.000029</td>\n",
       "      <td>0.171817</td>\n",
       "      <td>0.179322</td>\n",
       "      <td>0.239316</td>\n",
       "      <td>7.293233e-01</td>\n",
       "    </tr>\n",
       "    <tr>\n",
       "      <th>f5</th>\n",
       "      <td>7500.0</td>\n",
       "      <td>10.083200</td>\n",
       "      <td>2.546071</td>\n",
       "      <td>1.000000</td>\n",
       "      <td>9.000000</td>\n",
       "      <td>10.000000</td>\n",
       "      <td>12.000000</td>\n",
       "      <td>1.600000e+01</td>\n",
       "    </tr>\n",
       "    <tr>\n",
       "      <th>f6</th>\n",
       "      <td>7500.0</td>\n",
       "      <td>0.238934</td>\n",
       "      <td>0.190283</td>\n",
       "      <td>0.049127</td>\n",
       "      <td>0.049127</td>\n",
       "      <td>0.098837</td>\n",
       "      <td>0.445026</td>\n",
       "      <td>4.450262e-01</td>\n",
       "    </tr>\n",
       "    <tr>\n",
       "      <th>f7</th>\n",
       "      <td>5625.0</td>\n",
       "      <td>0.240556</td>\n",
       "      <td>0.147371</td>\n",
       "      <td>0.000000</td>\n",
       "      <td>0.115721</td>\n",
       "      <td>0.241573</td>\n",
       "      <td>0.439103</td>\n",
       "      <td>4.822222e-01</td>\n",
       "    </tr>\n",
       "    <tr>\n",
       "      <th>f8</th>\n",
       "      <td>7500.0</td>\n",
       "      <td>0.238933</td>\n",
       "      <td>0.193365</td>\n",
       "      <td>0.009499</td>\n",
       "      <td>0.066581</td>\n",
       "      <td>0.103024</td>\n",
       "      <td>0.444334</td>\n",
       "      <td>4.843750e-01</td>\n",
       "    </tr>\n",
       "    <tr>\n",
       "      <th>f9</th>\n",
       "      <td>7500.0</td>\n",
       "      <td>23.893333</td>\n",
       "      <td>4.451530</td>\n",
       "      <td>5.970149</td>\n",
       "      <td>25.606721</td>\n",
       "      <td>25.606721</td>\n",
       "      <td>25.606721</td>\n",
       "      <td>2.560672e+01</td>\n",
       "    </tr>\n",
       "    <tr>\n",
       "      <th>f10</th>\n",
       "      <td>7500.0</td>\n",
       "      <td>0.238933</td>\n",
       "      <td>0.087708</td>\n",
       "      <td>0.113590</td>\n",
       "      <td>0.113590</td>\n",
       "      <td>0.300298</td>\n",
       "      <td>0.300298</td>\n",
       "      <td>3.002979e-01</td>\n",
       "    </tr>\n",
       "    <tr>\n",
       "      <th>f11</th>\n",
       "      <td>7490.0</td>\n",
       "      <td>1068.693992</td>\n",
       "      <td>7430.344770</td>\n",
       "      <td>0.000000</td>\n",
       "      <td>0.000000</td>\n",
       "      <td>0.000000</td>\n",
       "      <td>0.000000</td>\n",
       "      <td>9.999900e+04</td>\n",
       "    </tr>\n",
       "    <tr>\n",
       "      <th>f12</th>\n",
       "      <td>7500.0</td>\n",
       "      <td>88.974933</td>\n",
       "      <td>404.517032</td>\n",
       "      <td>0.000000</td>\n",
       "      <td>0.000000</td>\n",
       "      <td>0.000000</td>\n",
       "      <td>0.000000</td>\n",
       "      <td>4.356000e+03</td>\n",
       "    </tr>\n",
       "    <tr>\n",
       "      <th>f13</th>\n",
       "      <td>7500.0</td>\n",
       "      <td>40.670800</td>\n",
       "      <td>12.330051</td>\n",
       "      <td>1.000000</td>\n",
       "      <td>40.000000</td>\n",
       "      <td>40.000000</td>\n",
       "      <td>45.000000</td>\n",
       "      <td>9.900000e+01</td>\n",
       "    </tr>\n",
       "    <tr>\n",
       "      <th>f14</th>\n",
       "      <td>7500.0</td>\n",
       "      <td>0.238955</td>\n",
       "      <td>0.041685</td>\n",
       "      <td>0.000080</td>\n",
       "      <td>0.244418</td>\n",
       "      <td>0.244418</td>\n",
       "      <td>0.244418</td>\n",
       "      <td>4.666665e-01</td>\n",
       "    </tr>\n",
       "    <tr>\n",
       "      <th>target</th>\n",
       "      <td>7500.0</td>\n",
       "      <td>0.238933</td>\n",
       "      <td>0.426460</td>\n",
       "      <td>0.000000</td>\n",
       "      <td>0.000000</td>\n",
       "      <td>0.000000</td>\n",
       "      <td>0.000000</td>\n",
       "      <td>1.000000e+00</td>\n",
       "    </tr>\n",
       "  </tbody>\n",
       "</table>\n",
       "</div>"
      ],
      "text/plain": [
       "         count           mean            std           min            25%  \\\n",
       "f1      7500.0      38.579600      13.647719     17.000000      28.000000   \n",
       "f2      7425.0     238.905308      76.198282     64.259070     218.593930   \n",
       "f3      7500.0  190384.986800  105867.442524  19302.000000  118019.000000   \n",
       "f4      7500.0       0.238933       0.151738      0.000029       0.171817   \n",
       "f5      7500.0      10.083200       2.546071      1.000000       9.000000   \n",
       "f6      7500.0       0.238934       0.190283      0.049127       0.049127   \n",
       "f7      5625.0       0.240556       0.147371      0.000000       0.115721   \n",
       "f8      7500.0       0.238933       0.193365      0.009499       0.066581   \n",
       "f9      7500.0      23.893333       4.451530      5.970149      25.606721   \n",
       "f10     7500.0       0.238933       0.087708      0.113590       0.113590   \n",
       "f11     7490.0    1068.693992    7430.344770      0.000000       0.000000   \n",
       "f12     7500.0      88.974933     404.517032      0.000000       0.000000   \n",
       "f13     7500.0      40.670800      12.330051      1.000000      40.000000   \n",
       "f14     7500.0       0.238955       0.041685      0.000080       0.244418   \n",
       "target  7500.0       0.238933       0.426460      0.000000       0.000000   \n",
       "\n",
       "                  50%            75%           max  \n",
       "f1          37.000000      47.000000  9.000000e+01  \n",
       "f2         218.593930     218.593930  5.753968e+02  \n",
       "f3      179568.500000  239441.750000  1.226583e+06  \n",
       "f4           0.179322       0.239316  7.293233e-01  \n",
       "f5          10.000000      12.000000  1.600000e+01  \n",
       "f6           0.098837       0.445026  4.450262e-01  \n",
       "f7           0.241573       0.439103  4.822222e-01  \n",
       "f8           0.103024       0.444334  4.843750e-01  \n",
       "f9          25.606721      25.606721  2.560672e+01  \n",
       "f10          0.300298       0.300298  3.002979e-01  \n",
       "f11          0.000000       0.000000  9.999900e+04  \n",
       "f12          0.000000       0.000000  4.356000e+03  \n",
       "f13         40.000000      45.000000  9.900000e+01  \n",
       "f14          0.244418       0.244418  4.666665e-01  \n",
       "target       0.000000       0.000000  1.000000e+00  "
      ]
     },
     "execution_count": 5,
     "metadata": {},
     "output_type": "execute_result"
    }
   ],
   "source": [
    "# Статистический анализ числовых переменных Xtrain\n",
    "df_Xtrain.describe().T"
   ]
  },
  {
   "cell_type": "code",
   "execution_count": 6,
   "metadata": {},
   "outputs": [
    {
     "data": {
      "text/html": [
       "<div>\n",
       "<style scoped>\n",
       "    .dataframe tbody tr th:only-of-type {\n",
       "        vertical-align: middle;\n",
       "    }\n",
       "\n",
       "    .dataframe tbody tr th {\n",
       "        vertical-align: top;\n",
       "    }\n",
       "\n",
       "    .dataframe thead th {\n",
       "        text-align: right;\n",
       "    }\n",
       "</style>\n",
       "<table border=\"1\" class=\"dataframe\">\n",
       "  <thead>\n",
       "    <tr style=\"text-align: right;\">\n",
       "      <th></th>\n",
       "      <th>f1</th>\n",
       "      <th>f2</th>\n",
       "      <th>f3</th>\n",
       "      <th>f4</th>\n",
       "      <th>f5</th>\n",
       "      <th>f6</th>\n",
       "      <th>f7</th>\n",
       "      <th>f8</th>\n",
       "      <th>f9</th>\n",
       "      <th>f10</th>\n",
       "      <th>f11</th>\n",
       "      <th>f12</th>\n",
       "      <th>f13</th>\n",
       "      <th>f14</th>\n",
       "      <th>target</th>\n",
       "    </tr>\n",
       "  </thead>\n",
       "  <tbody>\n",
       "    <tr>\n",
       "      <th>0</th>\n",
       "      <td>31</td>\n",
       "      <td>238.933333</td>\n",
       "      <td>47296</td>\n",
       "      <td>0.238933</td>\n",
       "      <td>10</td>\n",
       "      <td>0.238933</td>\n",
       "      <td>0.238933</td>\n",
       "      <td>0.238933</td>\n",
       "      <td>23.893333</td>\n",
       "      <td>0.238933</td>\n",
       "      <td>0</td>\n",
       "      <td>1740</td>\n",
       "      <td>20</td>\n",
       "      <td>0.238933</td>\n",
       "      <td>0</td>\n",
       "    </tr>\n",
       "    <tr>\n",
       "      <th>1</th>\n",
       "      <td>24</td>\n",
       "      <td>238.933333</td>\n",
       "      <td>33088</td>\n",
       "      <td>0.238933</td>\n",
       "      <td>7</td>\n",
       "      <td>0.238933</td>\n",
       "      <td>0.238933</td>\n",
       "      <td>0.238933</td>\n",
       "      <td>23.893333</td>\n",
       "      <td>0.238933</td>\n",
       "      <td>0</td>\n",
       "      <td>0</td>\n",
       "      <td>40</td>\n",
       "      <td>0.238933</td>\n",
       "      <td>0</td>\n",
       "    </tr>\n",
       "    <tr>\n",
       "      <th>2</th>\n",
       "      <td>18</td>\n",
       "      <td>238.933333</td>\n",
       "      <td>283342</td>\n",
       "      <td>0.238933</td>\n",
       "      <td>7</td>\n",
       "      <td>0.238933</td>\n",
       "      <td>0.238933</td>\n",
       "      <td>0.238933</td>\n",
       "      <td>23.893333</td>\n",
       "      <td>0.238933</td>\n",
       "      <td>0</td>\n",
       "      <td>0</td>\n",
       "      <td>20</td>\n",
       "      <td>0.238933</td>\n",
       "      <td>0</td>\n",
       "    </tr>\n",
       "    <tr>\n",
       "      <th>3</th>\n",
       "      <td>19</td>\n",
       "      <td>238.933333</td>\n",
       "      <td>393712</td>\n",
       "      <td>0.238933</td>\n",
       "      <td>9</td>\n",
       "      <td>0.238933</td>\n",
       "      <td>0.238933</td>\n",
       "      <td>0.238933</td>\n",
       "      <td>23.893333</td>\n",
       "      <td>0.238933</td>\n",
       "      <td>0</td>\n",
       "      <td>0</td>\n",
       "      <td>20</td>\n",
       "      <td>0.238933</td>\n",
       "      <td>0</td>\n",
       "    </tr>\n",
       "    <tr>\n",
       "      <th>4</th>\n",
       "      <td>28</td>\n",
       "      <td>238.933333</td>\n",
       "      <td>200515</td>\n",
       "      <td>0.238933</td>\n",
       "      <td>10</td>\n",
       "      <td>0.238933</td>\n",
       "      <td>0.238933</td>\n",
       "      <td>0.238933</td>\n",
       "      <td>23.893333</td>\n",
       "      <td>0.238933</td>\n",
       "      <td>0</td>\n",
       "      <td>0</td>\n",
       "      <td>40</td>\n",
       "      <td>0.238933</td>\n",
       "      <td>0</td>\n",
       "    </tr>\n",
       "  </tbody>\n",
       "</table>\n",
       "</div>"
      ],
      "text/plain": [
       "   f1          f2      f3        f4  f5        f6        f7        f8  \\\n",
       "0  31  238.933333   47296  0.238933  10  0.238933  0.238933  0.238933   \n",
       "1  24  238.933333   33088  0.238933   7  0.238933  0.238933  0.238933   \n",
       "2  18  238.933333  283342  0.238933   7  0.238933  0.238933  0.238933   \n",
       "3  19  238.933333  393712  0.238933   9  0.238933  0.238933  0.238933   \n",
       "4  28  238.933333  200515  0.238933  10  0.238933  0.238933  0.238933   \n",
       "\n",
       "          f9       f10  f11   f12  f13       f14  target  \n",
       "0  23.893333  0.238933    0  1740   20  0.238933       0  \n",
       "1  23.893333  0.238933    0     0   40  0.238933       0  \n",
       "2  23.893333  0.238933    0     0   20  0.238933       0  \n",
       "3  23.893333  0.238933    0     0   20  0.238933       0  \n",
       "4  23.893333  0.238933    0     0   40  0.238933       0  "
      ]
     },
     "execution_count": 6,
     "metadata": {},
     "output_type": "execute_result"
    }
   ],
   "source": [
    "df_Xtest.head()"
   ]
  },
  {
   "cell_type": "code",
   "execution_count": 7,
   "metadata": {},
   "outputs": [
    {
     "name": "stdout",
     "output_type": "stream",
     "text": [
      "<class 'pandas.core.frame.DataFrame'>\n",
      "RangeIndex: 2500 entries, 0 to 2499\n",
      "Data columns (total 15 columns):\n",
      " #   Column  Non-Null Count  Dtype  \n",
      "---  ------  --------------  -----  \n",
      " 0   f1      2500 non-null   int64  \n",
      " 1   f2      2500 non-null   float64\n",
      " 2   f3      2500 non-null   int64  \n",
      " 3   f4      2500 non-null   float64\n",
      " 4   f5      2500 non-null   int64  \n",
      " 5   f6      2500 non-null   float64\n",
      " 6   f7      2500 non-null   float64\n",
      " 7   f8      2500 non-null   float64\n",
      " 8   f9      2500 non-null   float64\n",
      " 9   f10     2500 non-null   float64\n",
      " 10  f11     2500 non-null   int64  \n",
      " 11  f12     2500 non-null   int64  \n",
      " 12  f13     2500 non-null   int64  \n",
      " 13  f14     2500 non-null   float64\n",
      " 14  target  2500 non-null   int64  \n",
      "dtypes: float64(8), int64(7)\n",
      "memory usage: 293.1 KB\n"
     ]
    }
   ],
   "source": [
    "df_Xtest.info()"
   ]
  },
  {
   "cell_type": "markdown",
   "metadata": {},
   "source": [
    "Из общей информации df_Xtest следует:\n",
    "\n",
    "DataFrame содержит 2500 записей (от индекса 0 до 2499)\n",
    "\n",
    "Всего 15 колонок\n",
    "\n",
    "Нулевые значения отсуствуют\n",
    "\n",
    "Нет пропущеных записей в колонках"
   ]
  },
  {
   "cell_type": "code",
   "execution_count": 35,
   "metadata": {},
   "outputs": [
    {
     "name": "stdout",
     "output_type": "stream",
     "text": [
      "number of duplicate rows:  (0, 15)\n"
     ]
    }
   ],
   "source": [
    "duplicate_df_Xtrain = df_Xtest[df_Xtest.duplicated()]\n",
    "print(\"number of duplicate rows: \", duplicate_df_Xtrain.shape)"
   ]
  },
  {
   "cell_type": "markdown",
   "metadata": {},
   "source": [
    "Дубликаты отсуствуют в DataFrame"
   ]
  },
  {
   "cell_type": "code",
   "execution_count": 37,
   "metadata": {},
   "outputs": [
    {
     "data": {
      "text/plain": [
       "False"
      ]
     },
     "execution_count": 37,
     "metadata": {},
     "output_type": "execute_result"
    }
   ],
   "source": [
    "# Проверка на NaN значения\n",
    "df_Xtest.isnull().any().any()"
   ]
  },
  {
   "cell_type": "code",
   "execution_count": 38,
   "metadata": {},
   "outputs": [
    {
     "data": {
      "text/plain": [
       "f1        0\n",
       "f2        0\n",
       "f3        0\n",
       "f4        0\n",
       "f5        0\n",
       "f6        0\n",
       "f7        0\n",
       "f8        0\n",
       "f9        0\n",
       "f10       0\n",
       "f11       0\n",
       "f12       0\n",
       "f13       0\n",
       "f14       0\n",
       "target    0\n",
       "dtype: int64"
      ]
     },
     "execution_count": 38,
     "metadata": {},
     "output_type": "execute_result"
    }
   ],
   "source": [
    "# Проверка на нулевые значения\n",
    "df_Xtest.isnull().sum()"
   ]
  },
  {
   "cell_type": "markdown",
   "metadata": {},
   "source": [
    "Нулевые значения отсуствуют"
   ]
  },
  {
   "cell_type": "code",
   "execution_count": 8,
   "metadata": {},
   "outputs": [
    {
     "data": {
      "text/html": [
       "<div>\n",
       "<style scoped>\n",
       "    .dataframe tbody tr th:only-of-type {\n",
       "        vertical-align: middle;\n",
       "    }\n",
       "\n",
       "    .dataframe tbody tr th {\n",
       "        vertical-align: top;\n",
       "    }\n",
       "\n",
       "    .dataframe thead th {\n",
       "        text-align: right;\n",
       "    }\n",
       "</style>\n",
       "<table border=\"1\" class=\"dataframe\">\n",
       "  <thead>\n",
       "    <tr style=\"text-align: right;\">\n",
       "      <th></th>\n",
       "      <th>count</th>\n",
       "      <th>mean</th>\n",
       "      <th>std</th>\n",
       "      <th>min</th>\n",
       "      <th>25%</th>\n",
       "      <th>50%</th>\n",
       "      <th>75%</th>\n",
       "      <th>max</th>\n",
       "    </tr>\n",
       "  </thead>\n",
       "  <tbody>\n",
       "    <tr>\n",
       "      <th>f1</th>\n",
       "      <td>2500.0</td>\n",
       "      <td>38.069200</td>\n",
       "      <td>1.344217e+01</td>\n",
       "      <td>17.000000</td>\n",
       "      <td>27.000000</td>\n",
       "      <td>37.000000</td>\n",
       "      <td>47.000000</td>\n",
       "      <td>90.000000</td>\n",
       "    </tr>\n",
       "    <tr>\n",
       "      <th>f2</th>\n",
       "      <td>2500.0</td>\n",
       "      <td>238.933333</td>\n",
       "      <td>8.528219e-14</td>\n",
       "      <td>238.933333</td>\n",
       "      <td>238.933333</td>\n",
       "      <td>238.933333</td>\n",
       "      <td>238.933333</td>\n",
       "      <td>238.933333</td>\n",
       "    </tr>\n",
       "    <tr>\n",
       "      <th>f3</th>\n",
       "      <td>2500.0</td>\n",
       "      <td>191561.425200</td>\n",
       "      <td>1.075425e+05</td>\n",
       "      <td>19302.000000</td>\n",
       "      <td>119098.750000</td>\n",
       "      <td>177510.500000</td>\n",
       "      <td>238851.250000</td>\n",
       "      <td>910398.000000</td>\n",
       "    </tr>\n",
       "    <tr>\n",
       "      <th>f4</th>\n",
       "      <td>2500.0</td>\n",
       "      <td>0.238933</td>\n",
       "      <td>5.552226e-17</td>\n",
       "      <td>0.238933</td>\n",
       "      <td>0.238933</td>\n",
       "      <td>0.238933</td>\n",
       "      <td>0.238933</td>\n",
       "      <td>0.238933</td>\n",
       "    </tr>\n",
       "    <tr>\n",
       "      <th>f5</th>\n",
       "      <td>2500.0</td>\n",
       "      <td>10.056800</td>\n",
       "      <td>2.554875e+00</td>\n",
       "      <td>1.000000</td>\n",
       "      <td>9.000000</td>\n",
       "      <td>10.000000</td>\n",
       "      <td>12.000000</td>\n",
       "      <td>16.000000</td>\n",
       "    </tr>\n",
       "    <tr>\n",
       "      <th>f6</th>\n",
       "      <td>2500.0</td>\n",
       "      <td>0.238933</td>\n",
       "      <td>5.552226e-17</td>\n",
       "      <td>0.238933</td>\n",
       "      <td>0.238933</td>\n",
       "      <td>0.238933</td>\n",
       "      <td>0.238933</td>\n",
       "      <td>0.238933</td>\n",
       "    </tr>\n",
       "    <tr>\n",
       "      <th>f7</th>\n",
       "      <td>2500.0</td>\n",
       "      <td>0.238933</td>\n",
       "      <td>5.552226e-17</td>\n",
       "      <td>0.238933</td>\n",
       "      <td>0.238933</td>\n",
       "      <td>0.238933</td>\n",
       "      <td>0.238933</td>\n",
       "      <td>0.238933</td>\n",
       "    </tr>\n",
       "    <tr>\n",
       "      <th>f8</th>\n",
       "      <td>2500.0</td>\n",
       "      <td>0.238933</td>\n",
       "      <td>5.552226e-17</td>\n",
       "      <td>0.238933</td>\n",
       "      <td>0.238933</td>\n",
       "      <td>0.238933</td>\n",
       "      <td>0.238933</td>\n",
       "      <td>0.238933</td>\n",
       "    </tr>\n",
       "    <tr>\n",
       "      <th>f9</th>\n",
       "      <td>2500.0</td>\n",
       "      <td>23.893333</td>\n",
       "      <td>3.553424e-15</td>\n",
       "      <td>23.893333</td>\n",
       "      <td>23.893333</td>\n",
       "      <td>23.893333</td>\n",
       "      <td>23.893333</td>\n",
       "      <td>23.893333</td>\n",
       "    </tr>\n",
       "    <tr>\n",
       "      <th>f10</th>\n",
       "      <td>2500.0</td>\n",
       "      <td>0.238933</td>\n",
       "      <td>5.552226e-17</td>\n",
       "      <td>0.238933</td>\n",
       "      <td>0.238933</td>\n",
       "      <td>0.238933</td>\n",
       "      <td>0.238933</td>\n",
       "      <td>0.238933</td>\n",
       "    </tr>\n",
       "    <tr>\n",
       "      <th>f11</th>\n",
       "      <td>2500.0</td>\n",
       "      <td>1022.667200</td>\n",
       "      <td>6.786872e+03</td>\n",
       "      <td>0.000000</td>\n",
       "      <td>0.000000</td>\n",
       "      <td>0.000000</td>\n",
       "      <td>0.000000</td>\n",
       "      <td>99999.000000</td>\n",
       "    </tr>\n",
       "    <tr>\n",
       "      <th>f12</th>\n",
       "      <td>2500.0</td>\n",
       "      <td>83.760800</td>\n",
       "      <td>3.877236e+02</td>\n",
       "      <td>0.000000</td>\n",
       "      <td>0.000000</td>\n",
       "      <td>0.000000</td>\n",
       "      <td>0.000000</td>\n",
       "      <td>2559.000000</td>\n",
       "    </tr>\n",
       "    <tr>\n",
       "      <th>f13</th>\n",
       "      <td>2500.0</td>\n",
       "      <td>40.108800</td>\n",
       "      <td>1.210991e+01</td>\n",
       "      <td>3.000000</td>\n",
       "      <td>38.750000</td>\n",
       "      <td>40.000000</td>\n",
       "      <td>45.000000</td>\n",
       "      <td>99.000000</td>\n",
       "    </tr>\n",
       "    <tr>\n",
       "      <th>f14</th>\n",
       "      <td>2500.0</td>\n",
       "      <td>0.238933</td>\n",
       "      <td>5.552226e-17</td>\n",
       "      <td>0.238933</td>\n",
       "      <td>0.238933</td>\n",
       "      <td>0.238933</td>\n",
       "      <td>0.238933</td>\n",
       "      <td>0.238933</td>\n",
       "    </tr>\n",
       "    <tr>\n",
       "      <th>target</th>\n",
       "      <td>2500.0</td>\n",
       "      <td>0.234800</td>\n",
       "      <td>4.239586e-01</td>\n",
       "      <td>0.000000</td>\n",
       "      <td>0.000000</td>\n",
       "      <td>0.000000</td>\n",
       "      <td>0.000000</td>\n",
       "      <td>1.000000</td>\n",
       "    </tr>\n",
       "  </tbody>\n",
       "</table>\n",
       "</div>"
      ],
      "text/plain": [
       "         count           mean           std           min            25%  \\\n",
       "f1      2500.0      38.069200  1.344217e+01     17.000000      27.000000   \n",
       "f2      2500.0     238.933333  8.528219e-14    238.933333     238.933333   \n",
       "f3      2500.0  191561.425200  1.075425e+05  19302.000000  119098.750000   \n",
       "f4      2500.0       0.238933  5.552226e-17      0.238933       0.238933   \n",
       "f5      2500.0      10.056800  2.554875e+00      1.000000       9.000000   \n",
       "f6      2500.0       0.238933  5.552226e-17      0.238933       0.238933   \n",
       "f7      2500.0       0.238933  5.552226e-17      0.238933       0.238933   \n",
       "f8      2500.0       0.238933  5.552226e-17      0.238933       0.238933   \n",
       "f9      2500.0      23.893333  3.553424e-15     23.893333      23.893333   \n",
       "f10     2500.0       0.238933  5.552226e-17      0.238933       0.238933   \n",
       "f11     2500.0    1022.667200  6.786872e+03      0.000000       0.000000   \n",
       "f12     2500.0      83.760800  3.877236e+02      0.000000       0.000000   \n",
       "f13     2500.0      40.108800  1.210991e+01      3.000000      38.750000   \n",
       "f14     2500.0       0.238933  5.552226e-17      0.238933       0.238933   \n",
       "target  2500.0       0.234800  4.239586e-01      0.000000       0.000000   \n",
       "\n",
       "                  50%            75%            max  \n",
       "f1          37.000000      47.000000      90.000000  \n",
       "f2         238.933333     238.933333     238.933333  \n",
       "f3      177510.500000  238851.250000  910398.000000  \n",
       "f4           0.238933       0.238933       0.238933  \n",
       "f5          10.000000      12.000000      16.000000  \n",
       "f6           0.238933       0.238933       0.238933  \n",
       "f7           0.238933       0.238933       0.238933  \n",
       "f8           0.238933       0.238933       0.238933  \n",
       "f9          23.893333      23.893333      23.893333  \n",
       "f10          0.238933       0.238933       0.238933  \n",
       "f11          0.000000       0.000000   99999.000000  \n",
       "f12          0.000000       0.000000    2559.000000  \n",
       "f13         40.000000      45.000000      99.000000  \n",
       "f14          0.238933       0.238933       0.238933  \n",
       "target       0.000000       0.000000       1.000000  "
      ]
     },
     "execution_count": 8,
     "metadata": {},
     "output_type": "execute_result"
    }
   ],
   "source": [
    "# Статистический анализ числовых переменных Xtest\n",
    "df_Xtest.describe().T"
   ]
  },
  {
   "cell_type": "markdown",
   "metadata": {
    "id": "oQkpwQGHtWcr"
   },
   "source": [
    "### 2. Оцените баланс классов в задаче\n",
    "- Затем попытайтесь устно ответить на вопрос, можно ли использовать accuracy как метрику качества в задаче?"
   ]
  },
  {
   "cell_type": "code",
   "execution_count": 39,
   "metadata": {},
   "outputs": [
    {
     "name": "stdout",
     "output_type": "stream",
     "text": [
      "df_Xtrain:\n",
      "target\n",
      "0    5708\n",
      "1    1792\n",
      "Name: count, dtype: int64\n"
     ]
    }
   ],
   "source": [
    "# Подсчет экземпляров для целевой переменной df_Xtrain\n",
    "print('df_Xtrain:')\n",
    "class_counts_df_Xtrain = fix_df_Xtrain['target'].value_counts()\n",
    "print(class_counts_df_Xtrain)"
   ]
  },
  {
   "cell_type": "code",
   "execution_count": 10,
   "metadata": {},
   "outputs": [
    {
     "data": {
      "image/png": "[encoded data removed]",
      "text/plain": [
       "<Figure size 1200x600 with 1 Axes>"
      ]
     },
     "metadata": {},
     "output_type": "display_data"
    }
   ],
   "source": [
    "# Размер графика\n",
    "plt.figure(figsize=(12, 6))\n",
    "\n",
    "# Построение графика\n",
    "class_counts_df_Xtrain.plot(kind='bar', color='skyblue')\n",
    "\n",
    "plt.title('Количество экземпляров каждого класса в target df_Xtrain')\n",
    "plt.ylabel('Количество экземпляров')\n",
    "plt.xlabel('Классы')\n",
    "\n",
    "# Повернуть метки оси x \n",
    "plt.xticks(rotation=0)\n",
    "\n",
    "# Показать график\n",
    "plt.show()"
   ]
  },
  {
   "cell_type": "code",
   "execution_count": 11,
   "metadata": {},
   "outputs": [
    {
     "name": "stdout",
     "output_type": "stream",
     "text": [
      "Минимальное количество экземпляров класса: 1792\n",
      "Максимальное количество экземпляров класса: 5708\n",
      "Коэффициент дисбаланса: 0.31394533987386125\n"
     ]
    }
   ],
   "source": [
    "# Минимальное и максимальное количество экземпляров класса\n",
    "min_class_count_df_Xtrain = class_counts_df_Xtrain.min()\n",
    "max_class_count_df_Xtrain = class_counts_df_Xtrain.max()\n",
    "\n",
    "# Рассчитайте коэффициент дисбаланса\n",
    "imbalance_ratio_df_Xtrain = min_class_count_df_Xtrain / max_class_count_df_Xtrain\n",
    "\n",
    "print(f'Минимальное количество экземпляров класса: {min_class_count_df_Xtrain}')\n",
    "print(f'Максимальное количество экземпляров класса: {max_class_count_df_Xtrain}')\n",
    "print(f'Коэффициент дисбаланса: {imbalance_ratio_df_Xtrain}')"
   ]
  },
  {
   "cell_type": "code",
   "execution_count": 12,
   "metadata": {},
   "outputs": [
    {
     "name": "stdout",
     "output_type": "stream",
     "text": [
      "df_Xtest:\n",
      "target\n",
      "0    1913\n",
      "1     587\n",
      "Name: count, dtype: int64\n"
     ]
    }
   ],
   "source": [
    "# Подсчет экземпляров для целевой переменной df_Xtest\n",
    "print('df_Xtest:')\n",
    "# Подсчет экземпляров для целевой переменной\n",
    "class_counts_df_Xtest = df_Xtest['target'].value_counts()\n",
    "print(class_counts_df_Xtest)"
   ]
  },
  {
   "cell_type": "code",
   "execution_count": 13,
   "metadata": {},
   "outputs": [
    {
     "data": {
      "image/png": "[encoded data removed]",
      "text/plain": [
       "<Figure size 1200x600 with 1 Axes>"
      ]
     },
     "metadata": {},
     "output_type": "display_data"
    }
   ],
   "source": [
    "# Размер графика\n",
    "plt.figure(figsize=(12, 6))\n",
    "\n",
    "# Построение графика\n",
    "class_counts_df_Xtest.plot(kind='bar', color='green')\n",
    "\n",
    "plt.title('Количество экземпляров каждого класса в target df_Xtrain')\n",
    "plt.ylabel('Количество экземпляров')\n",
    "plt.xlabel('Классы')\n",
    "\n",
    "# Повернуть метки оси x \n",
    "plt.xticks(rotation=0)\n",
    "\n",
    "# Показать график\n",
    "plt.show()"
   ]
  },
  {
   "cell_type": "code",
   "execution_count": 14,
   "metadata": {},
   "outputs": [
    {
     "name": "stdout",
     "output_type": "stream",
     "text": [
      "Минимальное количество экземпляров класса: 587\n",
      "Максимальное количество экземпляров класса: 1913\n",
      "Коэффициент дисбаланса: 0.30684788290642967\n"
     ]
    }
   ],
   "source": [
    "# Минимальное и максимальное количество экземпляров класса\n",
    "min_class_count_df_Xtest = class_counts_df_Xtest.min()\n",
    "max_class_count_df_Xtest = class_counts_df_Xtest.max()\n",
    "\n",
    "# Рассчитайте коэффициент дисбаланса\n",
    "imbalance_ratio_df_df_Xtest = min_class_count_df_Xtest / max_class_count_df_Xtest\n",
    "\n",
    "print(f'Минимальное количество экземпляров класса: {min_class_count_df_Xtest}')\n",
    "print(f'Максимальное количество экземпляров класса: {max_class_count_df_Xtest}')\n",
    "print(f'Коэффициент дисбаланса: {imbalance_ratio_df_df_Xtest}')"
   ]
  },
  {
   "cell_type": "markdown",
   "metadata": {},
   "source": [
    "В данных DataFrame обнаружен дисбаланс классов, в задаче с дисбалансом классов, использовать accuracy не самое лучшее решение. Accuracy рассчитывается как отношение количества правильно классифицированных примеров к общему количеству примеров. "
   ]
  },
  {
   "cell_type": "markdown",
   "metadata": {
    "id": "xB_ReQ62tWct"
   },
   "source": [
    "### 3. Постройте baseline-модель:\n",
    "- разбейте TrainData на тренировочные (Train) и тестовые данные (Test);\n",
    "- обучите LogisticRegression и SVC с параметрами по умолчанию на тренировочных данных (Train);\n",
    "- примените модели на тестовых данных (Test)."
   ]
  },
  {
   "cell_type": "code",
   "execution_count": 41,
   "metadata": {},
   "outputs": [
    {
     "name": "stdout",
     "output_type": "stream",
     "text": [
      "Размер обучающего набора: (6000, 14)\n",
      "Размер тестового набора: (1500, 14)\n"
     ]
    }
   ],
   "source": [
    "# Определение независимых и зависимых переменных\n",
    "X = fix_df_Xtrain.drop([\"target\"], axis=1) # Независимые переменные\n",
    "y = fix_df_Xtrain['target']  # Зависимая переменная\n",
    "\n",
    "# Разделение данных на обучающую и тестовую выборки\n",
    "X_train, X_test, y_train, y_test = train_test_split(X, y, test_size=0.2, random_state=42)\n",
    "\n",
    "# Выводим размеры\n",
    "print(\"Размер обучающего набора:\", X_train.shape)\n",
    "print(\"Размер тестового набора:\", X_test.shape)"
   ]
  },
  {
   "cell_type": "code",
   "execution_count": 56,
   "metadata": {
    "id": "WUfRVj5ctWcu"
   },
   "outputs": [
    {
     "name": "stderr",
     "output_type": "stream",
     "text": [
      "c:\\Users\\Esdesu\\AppData\\Local\\Programs\\Python\\Python310\\lib\\site-packages\\sklearn\\linear_model\\_logistic.py:469: ConvergenceWarning: lbfgs failed to converge (status=1):\n",
      "STOP: TOTAL NO. of ITERATIONS REACHED LIMIT.\n",
      "\n",
      "Increase the number of iterations (max_iter) or scale the data as shown in:\n",
      "    https://scikit-learn.org/stable/modules/preprocessing.html\n",
      "Please also refer to the documentation for alternative solver options:\n",
      "    https://scikit-learn.org/stable/modules/linear_model.html#logistic-regression\n",
      "  n_iter_i = _check_optimize_result(\n"
     ]
    },
    {
     "name": "stdout",
     "output_type": "stream",
     "text": [
      "Logistic Regression Accuracy: 0.8046666666666666\n",
      "SVC Accuracy: 0.782\n",
      "\n",
      "Logistic Regression Classification Report:\n",
      "               precision    recall  f1-score   support\n",
      "\n",
      "           0       0.81      0.97      0.88      1158\n",
      "           1       0.71      0.25      0.36       342\n",
      "\n",
      "    accuracy                           0.80      1500\n",
      "   macro avg       0.76      0.61      0.62      1500\n",
      "weighted avg       0.79      0.80      0.77      1500\n",
      "\n",
      "\n",
      "SVC Classification Report:\n",
      "               precision    recall  f1-score   support\n",
      "\n",
      "           0       0.78      1.00      0.88      1158\n",
      "           1       0.94      0.05      0.09       342\n",
      "\n",
      "    accuracy                           0.78      1500\n",
      "   macro avg       0.86      0.52      0.48      1500\n",
      "weighted avg       0.82      0.78      0.70      1500\n",
      "\n"
     ]
    }
   ],
   "source": [
    "# Обучение модели Logistic Regression\n",
    "logistic_model = LogisticRegression()\n",
    "\n",
    "# Обучение модели на обучающей выборке\n",
    "logistic_model.fit(X_train, y_train)\n",
    "\n",
    "# Обучение модели SVC\n",
    "svc_model = SVC()\n",
    "\n",
    "# Обучение модели на обучающей выборке\n",
    "svc_model.fit(X_train, y_train)\n",
    "\n",
    "# Применение модели на тестовых данных\n",
    "y_pred_logistic = logistic_model.predict(X_test)\n",
    "\n",
    "# Применение модели на тестовых данных\n",
    "y_pred_svc = svc_model.predict(X_test)\n",
    "\n",
    "# Оценка моделей\n",
    "logistic_accuracy = accuracy_score(y_test, y_pred_logistic)\n",
    "svc_accuracy = accuracy_score(y_test, y_pred_svc)\n",
    "\n",
    "print(\"Logistic Regression Accuracy:\", logistic_accuracy)\n",
    "print(\"SVC Accuracy:\", svc_accuracy)\n",
    "\n",
    "# Вывод отчетов о классификации\n",
    "print(\"\\nLogistic Regression Classification Report:\\n\", classification_report(y_test, y_pred_logistic))\n",
    "print(\"\\nSVC Classification Report:\\n\", classification_report(y_test, y_pred_svc))"
   ]
  },
  {
   "cell_type": "markdown",
   "metadata": {},
   "source": [
    "Низкие показатели recall, f1 подтверждают сильный дисбаланс классов который был обнаружен выше, что свидетельсвует о том, что результаты accuracu_score не адекватные/не действительные.\n",
    "Требуется явный баланс классов, для получения адекватных результатов."
   ]
  },
  {
   "cell_type": "markdown",
   "metadata": {
    "id": "KYQnr8CftWcv"
   },
   "source": [
    "### 4. Улучшите модели\n",
    "Попробуйте улучшить качество обученных моделей:\n",
    "- можете задавать class_weights;\n",
    "- можете изменять параметры модели;\n",
    "- можете вручную или при помощи методов Python генерировать новые признаки и/или удалять существующие.\n",
    "\n",
    "Это самая важная и творческая часть задания. Проводите как можно больше экспериментов!\n",
    "\n",
    "Проведите минимиум три эксперимента: для каждого типа модели минимум один эксперимент."
   ]
  },
  {
   "cell_type": "markdown",
   "metadata": {},
   "source": [
    "##### Опыт 1"
   ]
  },
  {
   "cell_type": "code",
   "execution_count": 72,
   "metadata": {},
   "outputs": [
    {
     "name": "stderr",
     "output_type": "stream",
     "text": [
      "c:\\Users\\Esdesu\\AppData\\Local\\Programs\\Python\\Python310\\lib\\site-packages\\sklearn\\linear_model\\_logistic.py:469: ConvergenceWarning: lbfgs failed to converge (status=1):\n",
      "STOP: TOTAL NO. of ITERATIONS REACHED LIMIT.\n",
      "\n",
      "Increase the number of iterations (max_iter) or scale the data as shown in:\n",
      "    https://scikit-learn.org/stable/modules/preprocessing.html\n",
      "Please also refer to the documentation for alternative solver options:\n",
      "    https://scikit-learn.org/stable/modules/linear_model.html#logistic-regression\n",
      "  n_iter_i = _check_optimize_result(\n"
     ]
    },
    {
     "name": "stdout",
     "output_type": "stream",
     "text": [
      "Logistic Regression точность: 0.6566666666666666\n",
      "SVC точность: 0.7926666666666666\n",
      "\n",
      "Logistic Regression:\n",
      "               precision    recall  f1-score   support\n",
      "\n",
      "           0       0.85      0.68      0.75      1158\n",
      "           1       0.35      0.59      0.44       342\n",
      "\n",
      "    accuracy                           0.66      1500\n",
      "   macro avg       0.60      0.63      0.60      1500\n",
      "weighted avg       0.73      0.66      0.68      1500\n",
      "\n",
      "\n",
      "SVC:\n",
      "               precision    recall  f1-score   support\n",
      "\n",
      "           0       0.79      1.00      0.88      1158\n",
      "           1       0.94      0.10      0.18       342\n",
      "\n",
      "    accuracy                           0.79      1500\n",
      "   macro avg       0.87      0.55      0.53      1500\n",
      "weighted avg       0.82      0.79      0.72      1500\n",
      "\n"
     ]
    }
   ],
   "source": [
    "# Обучение модели Logistic Regression class_weight='balanced'\n",
    "logistic_model_balanced = LogisticRegression(class_weight='balanced')\n",
    "\n",
    "# Обучение модели на обучающей выборке\n",
    "logistic_model_balanced.fit(X_train, y_train)\n",
    "\n",
    "# Обучение модели SVC class_weight='balanced'\n",
    "svc_model_balansed = SVC(class_weight='balanced')\n",
    "\n",
    "# Обучение модели на обучающей выборке\n",
    "svc_model_balansed.fit(X_train, y_train)\n",
    "\n",
    "# Применение модели на тестовых данных\n",
    "y_pred_logistic_balansed = logistic_model_balanced.predict(X_test)\n",
    "\n",
    "# Применение модели на тестовых данных\n",
    "y_pred_svc_balansed = svc_model_balansed.predict(X_test)\n",
    "\n",
    "# Оценка моделей\n",
    "logistic_accuracy_balansed = accuracy_score(y_test, y_pred_logistic_balansed)\n",
    "svc_accuracy_balansed = accuracy_score(y_test, y_pred_svc_balansed)\n",
    "\n",
    "print(\"Logistic Regression точность:\", logistic_accuracy_balansed)\n",
    "print(\"SVC точность:\", svc_accuracy_balansed)\n",
    "\n",
    "# Вывод отчетов о классификации\n",
    "print(\"\\nLogistic Regression:\\n\", classification_report(y_test, y_pred_logistic_balansed))\n",
    "print(\"\\nSVC:\\n\", classification_report(y_test, y_pred_svc_balansed))"
   ]
  },
  {
   "cell_type": "markdown",
   "metadata": {},
   "source": [
    "Добавление class_weight='balanced' (автоматический рачёт веса) в SVC модель не дало никаких особо положительных результатов и попрежнемому данным данной модели нельзя доверять.\n",
    "Logistic Regression наоборот получила неплохой буст в полноте но потеряла в точности, опять же не даёт сказать, что модель хорошо справляется с своей задачей."
   ]
  },
  {
   "cell_type": "markdown",
   "metadata": {},
   "source": [
    "##### Опыт 2"
   ]
  },
  {
   "cell_type": "code",
   "execution_count": null,
   "metadata": {},
   "outputs": [
    {
     "name": "stdout",
     "output_type": "stream",
     "text": [
      "Logistic Regression точность: 0.77\n",
      "SVC точность: 0.798\n",
      "\n",
      "Logistic Regression:\n",
      "               precision    recall  f1-score   support\n",
      "\n",
      "           0       0.96      0.73      0.83      1158\n",
      "           1       0.50      0.89      0.64       342\n",
      "\n",
      "    accuracy                           0.77      1500\n",
      "   macro avg       0.73      0.81      0.74      1500\n",
      "weighted avg       0.85      0.77      0.79      1500\n",
      "\n",
      "\n",
      "SVC:\n",
      "               precision    recall  f1-score   support\n",
      "\n",
      "           0       0.79      1.00      0.88      1158\n",
      "           1       0.93      0.12      0.22       342\n",
      "\n",
      "    accuracy                           0.80      1500\n",
      "   macro avg       0.86      0.56      0.55      1500\n",
      "weighted avg       0.83      0.80      0.73      1500\n",
      "\n"
     ]
    }
   ],
   "source": [
    "# Обучение модели Logistic Regression class_weight='manual'\n",
    "class_weights_log = {0: 1, 1: 3}\n",
    "logistic_model_manual = LogisticRegression(class_weight=class_weights_log, solver='liblinear', C=1.0)\n",
    "\n",
    "# Обучение модели на обучающей выборке\n",
    "logistic_model_manual.fit(X_train, y_train)\n",
    "\n",
    "# Обучение модели SVC class_weight='manual'\n",
    "class_weights_svc = {0: 2, 1: 6}\n",
    "svc_model_manual = SVC(class_weight=class_weights_svc, kernel='rbf', C=0.7)\n",
    "\n",
    "# Обучение модели на обучающей выборке\n",
    "svc_model_manual.fit(X_train, y_train)\n",
    "\n",
    "# Применение модели на тестовых данных\n",
    "y_pred_logistic_manual = logistic_model_manual.predict(X_test)\n",
    "\n",
    "# Применение модели на тестовых данных\n",
    "y_pred_svc_manual = svc_model_manual.predict(X_test)\n",
    "\n",
    "# Оценка моделей\n",
    "logistic_accuracy_manual = accuracy_score(y_test, y_pred_logistic_manual)\n",
    "svc_accuracy_manual = accuracy_score(y_test, y_pred_svc_manual)\n",
    "\n",
    "print(\"Logistic Regression точность:\", logistic_accuracy_manual)\n",
    "print(\"SVC точность:\", svc_accuracy_manual)\n",
    "\n",
    "# Вывод отчетов о классификации\n",
    "print(\"\\nLogistic Regression:\\n\", classification_report(y_test, y_pred_logistic_manual))\n",
    "print(\"\\nSVC:\\n\", classification_report(y_test, y_pred_svc_manual))"
   ]
  },
  {
   "cell_type": "markdown",
   "metadata": {},
   "source": [
    "Поэксперементировав с ручными весами удалось поднять точность при Logistic Regression до 50% а при SVC до 93 однако если у Logistic Regression все хорошо с recall то при SVC этот парамерт всё ещё не велик и скорее всего модель даёт не правильные данные, несмотря на то, что она стала лучше по сравнению с автоматической балансировкой."
   ]
  },
  {
   "cell_type": "markdown",
   "metadata": {},
   "source": [
    "##### Опыт 3"
   ]
  },
  {
   "cell_type": "code",
   "execution_count": 143,
   "metadata": {},
   "outputs": [
    {
     "name": "stdout",
     "output_type": "stream",
     "text": [
      "Размер обучающего набора: (6000, 17)\n",
      "Размер тестового набора: (1500, 17)\n"
     ]
    }
   ],
   "source": [
    "# Создание новых признаков \n",
    "fix_df_Xtrain['f1_f2_interaction'] = fix_df_Xtrain['f1'] * fix_df_Xtrain['f2'] # Интеракция\n",
    "fix_df_Xtrain['f3_log'] = np.log1p(fix_df_Xtrain['f3'])  # Логарифмирование\n",
    "fix_df_Xtrain['f4_squared'] = fix_df_Xtrain['f4'] ** 2  # Квадрат\n",
    "\n",
    "# Определение независимых и зависимых переменных\n",
    "X = fix_df_Xtrain.drop([\"target\"], axis=1) # Независимые переменные\n",
    "y = fix_df_Xtrain['target']  # Зависимая переменная\n",
    "\n",
    "# Разделение данных на обучающую и тестовую выборки\n",
    "X_train, X_test, y_train, y_test = train_test_split(X, y, test_size=0.2, random_state=42)\n",
    "\n",
    "# Выводим размеры\n",
    "print(\"Размер обучающего набора:\", X_train.shape)\n",
    "print(\"Размер тестового набора:\", X_test.shape)"
   ]
  },
  {
   "cell_type": "code",
   "execution_count": null,
   "metadata": {},
   "outputs": [],
   "source": [
    "# Обучение модели Logistic Regression с динамическими весами\n",
    "class_weights_log_3 = {0: 1, 1: (len(y) / (2 * y.value_counts()[1]))}\n",
    "logistic_model_3 = LogisticRegression(class_weight=class_weights_log_3, solver='liblinear', penalty='l1', C=0.1)\n",
    "\n",
    "# Обучение модели на обучающей выборке\n",
    "logistic_model_3.fit(X_train, y_train)\n",
    "\n",
    "# Обучение модели SVC с динамическими весами\n",
    "class_weights_svc_3 = {0: 1, 1: (len(y) / (2 * y.value_counts()[1]))}\n",
    "# Создание и обучение модели SVC с масштабированием\n",
    "svc_model_3 = SVC(class_weight=class_weights_svc_3, kernel='scale')\n",
    "\n",
    "\n",
    "# Обучение модели на обучающей выборке\n",
    "svc_model_3.fit(X_train, y_train)\n",
    "\n",
    "# Применение модели на тестовых данных\n",
    "y_pred_logistic_manual_3 = logistic_model_3.predict(X_test)\n",
    "\n",
    "# Применение модели на тестовых данных\n",
    "y_pred_svc_manual_3 = svc_model_3.predict(X_test)\n",
    "\n",
    "# Оценка моделей\n",
    "logistic_accuracy_manual_3 = accuracy_score(y_test, y_pred_logistic_manual_3)\n",
    "svc_accuracy_manual_3 = accuracy_score(y_test, y_pred_svc_manual_3)\n",
    "\n",
    "print(\"Logistic Regression точность:\", logistic_accuracy_manual_3)\n",
    "print(\"SVC точность:\", svc_accuracy_manual_3)\n",
    "\n",
    "# Вывод отчетов о классификации\n",
    "print(\"\\nLogistic Regression:\\n\", classification_report(y_test, y_pred_logistic_manual_3))\n",
    "print(\"\\nSVC:\\n\", classification_report(y_test, y_pred_svc_manual_3))"
   ]
  },
  {
   "cell_type": "markdown",
   "metadata": {
    "id": "yfu3yy_7tWcy"
   },
   "source": [
    "### 5. Оцените на отложенной выборке качество наилучшей модели\n",
    "В пунктах 3 и 4 вы построили много разных моделей.\n",
    "\n",
    "Возьмите ту, которая дала наилучшее качество на тестовых данных (Test). Примените её на отложенной выборке (TestData) и выведите на экран значение метрики f1."
   ]
  },
  {
   "cell_type": "code",
   "execution_count": null,
   "metadata": {
    "id": "upHUOfrktWcy"
   },
   "outputs": [],
   "source": [
    "# Ваш код здесь"
   ]
  },
  {
   "cell_type": "markdown",
   "metadata": {
    "id": "YZT0rMuStWcz"
   },
   "source": [
    "### 6. Выполните хитрый трюк\n",
    "Часто смешивание различных моделей даёт улучшение итогового предсказания. Попробуйте смешать две лучшие модели по формуле:\n",
    "$$pred_{final} = \\alpha\\cdot pred_1 + (1-\\alpha)\\cdot pred_2$$.\n",
    "\n",
    "Значение $\\alpha$ подберите в цикле по Test-выборке. Оцените качество на отложенной выборке.\n",
    "\n",
    "Удалось ли добиться улучшения качества?"
   ]
  },
  {
   "cell_type": "code",
   "execution_count": null,
   "metadata": {
    "id": "3DdSsk6gtWc7"
   },
   "outputs": [],
   "source": [
    "# Ваш код здесь"
   ]
  },
  {
   "cell_type": "markdown",
   "metadata": {
    "id": "9b9imFkLtWc8"
   },
   "source": [
    "### 7. Сделайте выводы\n",
    "\n",
    "Запишите в отдельной ячейке текстом выводы о проделанной работе. Для этого ответьте на вопросы:\n",
    "- Какие подходы вы использовали для улучшения работы baseline-моделей?\n",
    "- Какого максимального качества удалось добиться на Test-данных?\n",
    "- Какое при этом получилось качество на отложенной выборке?\n",
    "- Ваша модель переобучилась, недообучилась или обучилась как надо?"
   ]
  },
  {
   "cell_type": "code",
   "execution_count": null,
   "metadata": {
    "id": "wWgT4ulytWc-"
   },
   "outputs": [],
   "source": [
    "# Ваш текст здесь"
   ]
  },
  {
   "cell_type": "markdown",
   "metadata": {
    "id": "cnFjm55atWc-"
   },
   "source": [
    "Важный комментарий! В реальных задачах не следует ожидать, что машинным обучением всегда удастся решить задачу с хорошим качеством. Но использовать все имеющиеся у вас в арсенале методы для достижения наилучшего результата нужно."
   ]
  }
 ],
 "metadata": {
  "colab": {
   "provenance": []
  },
  "kernelspec": {
   "display_name": "Python 3",
   "language": "python",
   "name": "python3"
  },
  "language_info": {
   "codemirror_mode": {
    "name": "ipython",
    "version": 3
   },
   "file_extension": ".py",
   "mimetype": "text/x-python",
   "name": "python",
   "nbconvert_exporter": "python",
   "pygments_lexer": "ipython3",
   "version": "3.10.0"
  }
 },
 "nbformat": 4,
 "nbformat_minor": 0
}
