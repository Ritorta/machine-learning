{
  "cells": [
    {
      "cell_type": "markdown",
      "metadata": {
        "id": "viMIsUg6HDMe"
      },
      "source": [
        "# Решающие деревья. Домашнее задание"
      ]
    },
    {
      "cell_type": "markdown",
      "metadata": {
        "id": "0-tRk6fdxmB-"
      },
      "source": [
        "## Что нужно сделать\n",
        "Решите задачу классификации оттоковых клиентов телекома: для каждого клиента необходимо определить, перестанет он пользоваться услугами оператора в ближайшее время или нет."
      ]
    },
    {
      "cell_type": "markdown",
      "metadata": {
        "id": "MT5L6lWZyDkE"
      },
      "source": [
        "Сделайте первичную обработку данных:\n",
        "\n",
        "1. Выбросите колонку State.\n",
        "\n",
        "2. Колонки International plan и Voice mail plan закодируйте следующим образом: Yes замените на 1, а No на 0.\n",
        "\n",
        "3. Переведите целевую переменную (Churn) в числа: True в 1, а False в 0."
      ]
    },
    {
      "cell_type": "code",
      "execution_count": 1,
      "metadata": {
        "colab": {
          "base_uri": "https://localhost:8080/",
          "height": 305
        },
        "id": "DIjF1xlpwOMd",
        "outputId": "98c7d62d-0849-4702-8d98-1406e20f59b7"
      },
      "outputs": [],
      "source": [
        "import numpy as np\n",
        "import pandas as pd\n",
        "import seaborn as sns\n",
        "import matplotlib.pyplot as plt\n",
        "from sklearn.preprocessing import LabelEncoder, StandardScaler\n",
        "from sklearn.linear_model import LogisticRegression\n",
        "from sklearn.svm import SVC\n",
        "from sklearn.tree import DecisionTreeClassifier\n",
        "from sklearn.ensemble import RandomForestClassifier\n",
        "from sklearn.model_selection import train_test_split\n",
        "from sklearn.metrics import accuracy_score, roc_auc_score"
      ]
    },
    {
      "cell_type": "code",
      "execution_count": 2,
      "metadata": {},
      "outputs": [
        {
          "data": {
            "text/html": [
              "<div>\n",
              "<style scoped>\n",
              "    .dataframe tbody tr th:only-of-type {\n",
              "        vertical-align: middle;\n",
              "    }\n",
              "\n",
              "    .dataframe tbody tr th {\n",
              "        vertical-align: top;\n",
              "    }\n",
              "\n",
              "    .dataframe thead th {\n",
              "        text-align: right;\n",
              "    }\n",
              "</style>\n",
              "<table border=\"1\" class=\"dataframe\">\n",
              "  <thead>\n",
              "    <tr style=\"text-align: right;\">\n",
              "      <th></th>\n",
              "      <th>State</th>\n",
              "      <th>Account length</th>\n",
              "      <th>Area code</th>\n",
              "      <th>International plan</th>\n",
              "      <th>Voice mail plan</th>\n",
              "      <th>Number vmail messages</th>\n",
              "      <th>Total day minutes</th>\n",
              "      <th>Total day calls</th>\n",
              "      <th>Total day charge</th>\n",
              "      <th>Total eve minutes</th>\n",
              "      <th>Total eve calls</th>\n",
              "      <th>Total eve charge</th>\n",
              "      <th>Total night minutes</th>\n",
              "      <th>Total night calls</th>\n",
              "      <th>Total night charge</th>\n",
              "      <th>Total intl minutes</th>\n",
              "      <th>Total intl calls</th>\n",
              "      <th>Total intl charge</th>\n",
              "      <th>Customer service calls</th>\n",
              "      <th>Churn</th>\n",
              "    </tr>\n",
              "  </thead>\n",
              "  <tbody>\n",
              "    <tr>\n",
              "      <th>0</th>\n",
              "      <td>KS</td>\n",
              "      <td>128</td>\n",
              "      <td>415</td>\n",
              "      <td>No</td>\n",
              "      <td>Yes</td>\n",
              "      <td>25</td>\n",
              "      <td>265.1</td>\n",
              "      <td>110</td>\n",
              "      <td>45.07</td>\n",
              "      <td>197.4</td>\n",
              "      <td>99</td>\n",
              "      <td>16.78</td>\n",
              "      <td>244.7</td>\n",
              "      <td>91</td>\n",
              "      <td>11.01</td>\n",
              "      <td>10.0</td>\n",
              "      <td>3</td>\n",
              "      <td>2.70</td>\n",
              "      <td>1</td>\n",
              "      <td>False</td>\n",
              "    </tr>\n",
              "    <tr>\n",
              "      <th>1</th>\n",
              "      <td>OH</td>\n",
              "      <td>107</td>\n",
              "      <td>415</td>\n",
              "      <td>No</td>\n",
              "      <td>Yes</td>\n",
              "      <td>26</td>\n",
              "      <td>161.6</td>\n",
              "      <td>123</td>\n",
              "      <td>27.47</td>\n",
              "      <td>195.5</td>\n",
              "      <td>103</td>\n",
              "      <td>16.62</td>\n",
              "      <td>254.4</td>\n",
              "      <td>103</td>\n",
              "      <td>11.45</td>\n",
              "      <td>13.7</td>\n",
              "      <td>3</td>\n",
              "      <td>3.70</td>\n",
              "      <td>1</td>\n",
              "      <td>False</td>\n",
              "    </tr>\n",
              "    <tr>\n",
              "      <th>2</th>\n",
              "      <td>NJ</td>\n",
              "      <td>137</td>\n",
              "      <td>415</td>\n",
              "      <td>No</td>\n",
              "      <td>No</td>\n",
              "      <td>0</td>\n",
              "      <td>243.4</td>\n",
              "      <td>114</td>\n",
              "      <td>41.38</td>\n",
              "      <td>121.2</td>\n",
              "      <td>110</td>\n",
              "      <td>10.30</td>\n",
              "      <td>162.6</td>\n",
              "      <td>104</td>\n",
              "      <td>7.32</td>\n",
              "      <td>12.2</td>\n",
              "      <td>5</td>\n",
              "      <td>3.29</td>\n",
              "      <td>0</td>\n",
              "      <td>False</td>\n",
              "    </tr>\n",
              "    <tr>\n",
              "      <th>3</th>\n",
              "      <td>OH</td>\n",
              "      <td>84</td>\n",
              "      <td>408</td>\n",
              "      <td>Yes</td>\n",
              "      <td>No</td>\n",
              "      <td>0</td>\n",
              "      <td>299.4</td>\n",
              "      <td>71</td>\n",
              "      <td>50.90</td>\n",
              "      <td>61.9</td>\n",
              "      <td>88</td>\n",
              "      <td>5.26</td>\n",
              "      <td>196.9</td>\n",
              "      <td>89</td>\n",
              "      <td>8.86</td>\n",
              "      <td>6.6</td>\n",
              "      <td>7</td>\n",
              "      <td>1.78</td>\n",
              "      <td>2</td>\n",
              "      <td>False</td>\n",
              "    </tr>\n",
              "    <tr>\n",
              "      <th>4</th>\n",
              "      <td>OK</td>\n",
              "      <td>75</td>\n",
              "      <td>415</td>\n",
              "      <td>Yes</td>\n",
              "      <td>No</td>\n",
              "      <td>0</td>\n",
              "      <td>166.7</td>\n",
              "      <td>113</td>\n",
              "      <td>28.34</td>\n",
              "      <td>148.3</td>\n",
              "      <td>122</td>\n",
              "      <td>12.61</td>\n",
              "      <td>186.9</td>\n",
              "      <td>121</td>\n",
              "      <td>8.41</td>\n",
              "      <td>10.1</td>\n",
              "      <td>3</td>\n",
              "      <td>2.73</td>\n",
              "      <td>3</td>\n",
              "      <td>False</td>\n",
              "    </tr>\n",
              "    <tr>\n",
              "      <th>...</th>\n",
              "      <td>...</td>\n",
              "      <td>...</td>\n",
              "      <td>...</td>\n",
              "      <td>...</td>\n",
              "      <td>...</td>\n",
              "      <td>...</td>\n",
              "      <td>...</td>\n",
              "      <td>...</td>\n",
              "      <td>...</td>\n",
              "      <td>...</td>\n",
              "      <td>...</td>\n",
              "      <td>...</td>\n",
              "      <td>...</td>\n",
              "      <td>...</td>\n",
              "      <td>...</td>\n",
              "      <td>...</td>\n",
              "      <td>...</td>\n",
              "      <td>...</td>\n",
              "      <td>...</td>\n",
              "      <td>...</td>\n",
              "    </tr>\n",
              "    <tr>\n",
              "      <th>3328</th>\n",
              "      <td>AZ</td>\n",
              "      <td>192</td>\n",
              "      <td>415</td>\n",
              "      <td>No</td>\n",
              "      <td>Yes</td>\n",
              "      <td>36</td>\n",
              "      <td>156.2</td>\n",
              "      <td>77</td>\n",
              "      <td>26.55</td>\n",
              "      <td>215.5</td>\n",
              "      <td>126</td>\n",
              "      <td>18.32</td>\n",
              "      <td>279.1</td>\n",
              "      <td>83</td>\n",
              "      <td>12.56</td>\n",
              "      <td>9.9</td>\n",
              "      <td>6</td>\n",
              "      <td>2.67</td>\n",
              "      <td>2</td>\n",
              "      <td>False</td>\n",
              "    </tr>\n",
              "    <tr>\n",
              "      <th>3329</th>\n",
              "      <td>WV</td>\n",
              "      <td>68</td>\n",
              "      <td>415</td>\n",
              "      <td>No</td>\n",
              "      <td>No</td>\n",
              "      <td>0</td>\n",
              "      <td>231.1</td>\n",
              "      <td>57</td>\n",
              "      <td>39.29</td>\n",
              "      <td>153.4</td>\n",
              "      <td>55</td>\n",
              "      <td>13.04</td>\n",
              "      <td>191.3</td>\n",
              "      <td>123</td>\n",
              "      <td>8.61</td>\n",
              "      <td>9.6</td>\n",
              "      <td>4</td>\n",
              "      <td>2.59</td>\n",
              "      <td>3</td>\n",
              "      <td>False</td>\n",
              "    </tr>\n",
              "    <tr>\n",
              "      <th>3330</th>\n",
              "      <td>RI</td>\n",
              "      <td>28</td>\n",
              "      <td>510</td>\n",
              "      <td>No</td>\n",
              "      <td>No</td>\n",
              "      <td>0</td>\n",
              "      <td>180.8</td>\n",
              "      <td>109</td>\n",
              "      <td>30.74</td>\n",
              "      <td>288.8</td>\n",
              "      <td>58</td>\n",
              "      <td>24.55</td>\n",
              "      <td>191.9</td>\n",
              "      <td>91</td>\n",
              "      <td>8.64</td>\n",
              "      <td>14.1</td>\n",
              "      <td>6</td>\n",
              "      <td>3.81</td>\n",
              "      <td>2</td>\n",
              "      <td>False</td>\n",
              "    </tr>\n",
              "    <tr>\n",
              "      <th>3331</th>\n",
              "      <td>CT</td>\n",
              "      <td>184</td>\n",
              "      <td>510</td>\n",
              "      <td>Yes</td>\n",
              "      <td>No</td>\n",
              "      <td>0</td>\n",
              "      <td>213.8</td>\n",
              "      <td>105</td>\n",
              "      <td>36.35</td>\n",
              "      <td>159.6</td>\n",
              "      <td>84</td>\n",
              "      <td>13.57</td>\n",
              "      <td>139.2</td>\n",
              "      <td>137</td>\n",
              "      <td>6.26</td>\n",
              "      <td>5.0</td>\n",
              "      <td>10</td>\n",
              "      <td>1.35</td>\n",
              "      <td>2</td>\n",
              "      <td>False</td>\n",
              "    </tr>\n",
              "    <tr>\n",
              "      <th>3332</th>\n",
              "      <td>TN</td>\n",
              "      <td>74</td>\n",
              "      <td>415</td>\n",
              "      <td>No</td>\n",
              "      <td>Yes</td>\n",
              "      <td>25</td>\n",
              "      <td>234.4</td>\n",
              "      <td>113</td>\n",
              "      <td>39.85</td>\n",
              "      <td>265.9</td>\n",
              "      <td>82</td>\n",
              "      <td>22.60</td>\n",
              "      <td>241.4</td>\n",
              "      <td>77</td>\n",
              "      <td>10.86</td>\n",
              "      <td>13.7</td>\n",
              "      <td>4</td>\n",
              "      <td>3.70</td>\n",
              "      <td>0</td>\n",
              "      <td>False</td>\n",
              "    </tr>\n",
              "  </tbody>\n",
              "</table>\n",
              "<p>3333 rows × 20 columns</p>\n",
              "</div>"
            ],
            "text/plain": [
              "     State  Account length  Area code International plan Voice mail plan  \\\n",
              "0       KS             128        415                 No             Yes   \n",
              "1       OH             107        415                 No             Yes   \n",
              "2       NJ             137        415                 No              No   \n",
              "3       OH              84        408                Yes              No   \n",
              "4       OK              75        415                Yes              No   \n",
              "...    ...             ...        ...                ...             ...   \n",
              "3328    AZ             192        415                 No             Yes   \n",
              "3329    WV              68        415                 No              No   \n",
              "3330    RI              28        510                 No              No   \n",
              "3331    CT             184        510                Yes              No   \n",
              "3332    TN              74        415                 No             Yes   \n",
              "\n",
              "      Number vmail messages  Total day minutes  Total day calls  \\\n",
              "0                        25              265.1              110   \n",
              "1                        26              161.6              123   \n",
              "2                         0              243.4              114   \n",
              "3                         0              299.4               71   \n",
              "4                         0              166.7              113   \n",
              "...                     ...                ...              ...   \n",
              "3328                     36              156.2               77   \n",
              "3329                      0              231.1               57   \n",
              "3330                      0              180.8              109   \n",
              "3331                      0              213.8              105   \n",
              "3332                     25              234.4              113   \n",
              "\n",
              "      Total day charge  Total eve minutes  Total eve calls  Total eve charge  \\\n",
              "0                45.07              197.4               99             16.78   \n",
              "1                27.47              195.5              103             16.62   \n",
              "2                41.38              121.2              110             10.30   \n",
              "3                50.90               61.9               88              5.26   \n",
              "4                28.34              148.3              122             12.61   \n",
              "...                ...                ...              ...               ...   \n",
              "3328             26.55              215.5              126             18.32   \n",
              "3329             39.29              153.4               55             13.04   \n",
              "3330             30.74              288.8               58             24.55   \n",
              "3331             36.35              159.6               84             13.57   \n",
              "3332             39.85              265.9               82             22.60   \n",
              "\n",
              "      Total night minutes  Total night calls  Total night charge  \\\n",
              "0                   244.7                 91               11.01   \n",
              "1                   254.4                103               11.45   \n",
              "2                   162.6                104                7.32   \n",
              "3                   196.9                 89                8.86   \n",
              "4                   186.9                121                8.41   \n",
              "...                   ...                ...                 ...   \n",
              "3328                279.1                 83               12.56   \n",
              "3329                191.3                123                8.61   \n",
              "3330                191.9                 91                8.64   \n",
              "3331                139.2                137                6.26   \n",
              "3332                241.4                 77               10.86   \n",
              "\n",
              "      Total intl minutes  Total intl calls  Total intl charge  \\\n",
              "0                   10.0                 3               2.70   \n",
              "1                   13.7                 3               3.70   \n",
              "2                   12.2                 5               3.29   \n",
              "3                    6.6                 7               1.78   \n",
              "4                   10.1                 3               2.73   \n",
              "...                  ...               ...                ...   \n",
              "3328                 9.9                 6               2.67   \n",
              "3329                 9.6                 4               2.59   \n",
              "3330                14.1                 6               3.81   \n",
              "3331                 5.0                10               1.35   \n",
              "3332                13.7                 4               3.70   \n",
              "\n",
              "      Customer service calls  Churn  \n",
              "0                          1  False  \n",
              "1                          1  False  \n",
              "2                          0  False  \n",
              "3                          2  False  \n",
              "4                          3  False  \n",
              "...                      ...    ...  \n",
              "3328                       2  False  \n",
              "3329                       3  False  \n",
              "3330                       2  False  \n",
              "3331                       2  False  \n",
              "3332                       0  False  \n",
              "\n",
              "[3333 rows x 20 columns]"
            ]
          },
          "execution_count": 2,
          "metadata": {},
          "output_type": "execute_result"
        }
      ],
      "source": [
        "cals_df = pd.read_csv(\"telecom_churn.csv\")\n",
        "cals_df"
      ]
    },
    {
      "cell_type": "markdown",
      "metadata": {},
      "source": [
        "Набор данных telecom_churn.csv информация о колонках:\n",
        "\n",
        "State - строка состояния (WV, MN, NY, AL, WI, OH, OR, WY, VA, CT, MI, ID, VT, TX, UT, IN, MD, KS, NC, NJ, MT, CO, NV, WA, RI, MA, MS, AZ, FL, MO, NM, ME, ND, NE, OK, DE, SC, SD, KY, IL, NH, AR, GA,\n",
        "DC, HI, TN, AK, LA, PA, IA, CA)\n",
        "\n",
        "Account length - Длина учетной записи\n",
        "\n",
        "Area code - Код региона\n",
        "\n",
        "International plan - Международный тарифный план\n",
        "\n",
        "Voice mail plan - Тарифный план голосовой почты\n",
        "\n",
        "Number vmail messages - Количество сообщений vmail\n",
        "\n",
        "Total day minutes - Общее количество минут за день\n",
        "\n",
        "Total day calls - Общее количество звонков за день\n",
        "\n",
        "Total day charge - Общая стоимость звонков за день\n",
        "\n",
        "Total eve minutes - Общее количество минут за вечер\n",
        "\n",
        "Total eve calls - Общее количество звонков за вечер\n",
        "\n",
        "Total eve charge - Общее количество четных звонков\n",
        "\n",
        "Total night minutes - Общее количество ночных минут\n",
        "\n",
        "Total night calls - Общее количество ночных звонков\n",
        "\n",
        "Total night charge - Общее количество ночных звонков\n",
        "\n",
        "Total intl minutes - Общее количество международных минут\n",
        "\n",
        "Total intl calls - Общее количество международных звонков\n",
        "\n",
        "Total intl charge - Общая сумма международных платежей\n",
        "\n",
        "Customer service calls - Количество звонков в службу поддержки\n",
        "\n",
        "Churn - Отток"
      ]
    },
    {
      "cell_type": "code",
      "execution_count": 3,
      "metadata": {},
      "outputs": [
        {
          "name": "stdout",
          "output_type": "stream",
          "text": [
            "<class 'pandas.core.frame.DataFrame'>\n",
            "RangeIndex: 3333 entries, 0 to 3332\n",
            "Data columns (total 20 columns):\n",
            " #   Column                  Non-Null Count  Dtype  \n",
            "---  ------                  --------------  -----  \n",
            " 0   State                   3333 non-null   object \n",
            " 1   Account length          3333 non-null   int64  \n",
            " 2   Area code               3333 non-null   int64  \n",
            " 3   International plan      3333 non-null   object \n",
            " 4   Voice mail plan         3333 non-null   object \n",
            " 5   Number vmail messages   3333 non-null   int64  \n",
            " 6   Total day minutes       3333 non-null   float64\n",
            " 7   Total day calls         3333 non-null   int64  \n",
            " 8   Total day charge        3333 non-null   float64\n",
            " 9   Total eve minutes       3333 non-null   float64\n",
            " 10  Total eve calls         3333 non-null   int64  \n",
            " 11  Total eve charge        3333 non-null   float64\n",
            " 12  Total night minutes     3333 non-null   float64\n",
            " 13  Total night calls       3333 non-null   int64  \n",
            " 14  Total night charge      3333 non-null   float64\n",
            " 15  Total intl minutes      3333 non-null   float64\n",
            " 16  Total intl calls        3333 non-null   int64  \n",
            " 17  Total intl charge       3333 non-null   float64\n",
            " 18  Customer service calls  3333 non-null   int64  \n",
            " 19  Churn                   3333 non-null   bool   \n",
            "dtypes: bool(1), float64(8), int64(8), object(3)\n",
            "memory usage: 498.1+ KB\n"
          ]
        }
      ],
      "source": [
        "# Общая информация по DataFrame\n",
        "cals_df.info()"
      ]
    },
    {
      "cell_type": "markdown",
      "metadata": {},
      "source": [
        "Из общей информации cals_df следует:\n",
        "1. DataFrame содержит 3333 записей (от индекса 0 до 3332)\n",
        "2. Всего 20 колонок\n",
        "3. Нулевые значения отсуствуют\n",
        "4. Пропущенные значения отсуствуют\n",
        "5. Колонки: Account length, Area code, Number vmail messages, Total day calls, Total eve calls, Total night calls, Total intl calls и Customer service calls в формате int64 \n",
        "6. Колонки: Total day minutes, Total day charge, Total eve minutes, Total eve charge, Total night minutes, Total night charge, Total intl minutes и Total intl charge в формате float64\n",
        "7. Колонки: State, International plan и Voice mail plan в формате object\n",
        "8. Колонка Churn в формате bool"
      ]
    },
    {
      "cell_type": "code",
      "execution_count": 4,
      "metadata": {},
      "outputs": [
        {
          "data": {
            "text/html": [
              "<div>\n",
              "<style scoped>\n",
              "    .dataframe tbody tr th:only-of-type {\n",
              "        vertical-align: middle;\n",
              "    }\n",
              "\n",
              "    .dataframe tbody tr th {\n",
              "        vertical-align: top;\n",
              "    }\n",
              "\n",
              "    .dataframe thead th {\n",
              "        text-align: right;\n",
              "    }\n",
              "</style>\n",
              "<table border=\"1\" class=\"dataframe\">\n",
              "  <thead>\n",
              "    <tr style=\"text-align: right;\">\n",
              "      <th></th>\n",
              "      <th>count</th>\n",
              "      <th>mean</th>\n",
              "      <th>std</th>\n",
              "      <th>min</th>\n",
              "      <th>25%</th>\n",
              "      <th>50%</th>\n",
              "      <th>75%</th>\n",
              "      <th>max</th>\n",
              "    </tr>\n",
              "  </thead>\n",
              "  <tbody>\n",
              "    <tr>\n",
              "      <th>Account length</th>\n",
              "      <td>3333.0</td>\n",
              "      <td>101.064806</td>\n",
              "      <td>39.822106</td>\n",
              "      <td>1.00</td>\n",
              "      <td>74.00</td>\n",
              "      <td>101.00</td>\n",
              "      <td>127.00</td>\n",
              "      <td>243.00</td>\n",
              "    </tr>\n",
              "    <tr>\n",
              "      <th>Area code</th>\n",
              "      <td>3333.0</td>\n",
              "      <td>437.182418</td>\n",
              "      <td>42.371290</td>\n",
              "      <td>408.00</td>\n",
              "      <td>408.00</td>\n",
              "      <td>415.00</td>\n",
              "      <td>510.00</td>\n",
              "      <td>510.00</td>\n",
              "    </tr>\n",
              "    <tr>\n",
              "      <th>Number vmail messages</th>\n",
              "      <td>3333.0</td>\n",
              "      <td>8.099010</td>\n",
              "      <td>13.688365</td>\n",
              "      <td>0.00</td>\n",
              "      <td>0.00</td>\n",
              "      <td>0.00</td>\n",
              "      <td>20.00</td>\n",
              "      <td>51.00</td>\n",
              "    </tr>\n",
              "    <tr>\n",
              "      <th>Total day minutes</th>\n",
              "      <td>3333.0</td>\n",
              "      <td>179.775098</td>\n",
              "      <td>54.467389</td>\n",
              "      <td>0.00</td>\n",
              "      <td>143.70</td>\n",
              "      <td>179.40</td>\n",
              "      <td>216.40</td>\n",
              "      <td>350.80</td>\n",
              "    </tr>\n",
              "    <tr>\n",
              "      <th>Total day calls</th>\n",
              "      <td>3333.0</td>\n",
              "      <td>100.435644</td>\n",
              "      <td>20.069084</td>\n",
              "      <td>0.00</td>\n",
              "      <td>87.00</td>\n",
              "      <td>101.00</td>\n",
              "      <td>114.00</td>\n",
              "      <td>165.00</td>\n",
              "    </tr>\n",
              "    <tr>\n",
              "      <th>Total day charge</th>\n",
              "      <td>3333.0</td>\n",
              "      <td>30.562307</td>\n",
              "      <td>9.259435</td>\n",
              "      <td>0.00</td>\n",
              "      <td>24.43</td>\n",
              "      <td>30.50</td>\n",
              "      <td>36.79</td>\n",
              "      <td>59.64</td>\n",
              "    </tr>\n",
              "    <tr>\n",
              "      <th>Total eve minutes</th>\n",
              "      <td>3333.0</td>\n",
              "      <td>200.980348</td>\n",
              "      <td>50.713844</td>\n",
              "      <td>0.00</td>\n",
              "      <td>166.60</td>\n",
              "      <td>201.40</td>\n",
              "      <td>235.30</td>\n",
              "      <td>363.70</td>\n",
              "    </tr>\n",
              "    <tr>\n",
              "      <th>Total eve calls</th>\n",
              "      <td>3333.0</td>\n",
              "      <td>100.114311</td>\n",
              "      <td>19.922625</td>\n",
              "      <td>0.00</td>\n",
              "      <td>87.00</td>\n",
              "      <td>100.00</td>\n",
              "      <td>114.00</td>\n",
              "      <td>170.00</td>\n",
              "    </tr>\n",
              "    <tr>\n",
              "      <th>Total eve charge</th>\n",
              "      <td>3333.0</td>\n",
              "      <td>17.083540</td>\n",
              "      <td>4.310668</td>\n",
              "      <td>0.00</td>\n",
              "      <td>14.16</td>\n",
              "      <td>17.12</td>\n",
              "      <td>20.00</td>\n",
              "      <td>30.91</td>\n",
              "    </tr>\n",
              "    <tr>\n",
              "      <th>Total night minutes</th>\n",
              "      <td>3333.0</td>\n",
              "      <td>200.872037</td>\n",
              "      <td>50.573847</td>\n",
              "      <td>23.20</td>\n",
              "      <td>167.00</td>\n",
              "      <td>201.20</td>\n",
              "      <td>235.30</td>\n",
              "      <td>395.00</td>\n",
              "    </tr>\n",
              "    <tr>\n",
              "      <th>Total night calls</th>\n",
              "      <td>3333.0</td>\n",
              "      <td>100.107711</td>\n",
              "      <td>19.568609</td>\n",
              "      <td>33.00</td>\n",
              "      <td>87.00</td>\n",
              "      <td>100.00</td>\n",
              "      <td>113.00</td>\n",
              "      <td>175.00</td>\n",
              "    </tr>\n",
              "    <tr>\n",
              "      <th>Total night charge</th>\n",
              "      <td>3333.0</td>\n",
              "      <td>9.039325</td>\n",
              "      <td>2.275873</td>\n",
              "      <td>1.04</td>\n",
              "      <td>7.52</td>\n",
              "      <td>9.05</td>\n",
              "      <td>10.59</td>\n",
              "      <td>17.77</td>\n",
              "    </tr>\n",
              "    <tr>\n",
              "      <th>Total intl minutes</th>\n",
              "      <td>3333.0</td>\n",
              "      <td>10.237294</td>\n",
              "      <td>2.791840</td>\n",
              "      <td>0.00</td>\n",
              "      <td>8.50</td>\n",
              "      <td>10.30</td>\n",
              "      <td>12.10</td>\n",
              "      <td>20.00</td>\n",
              "    </tr>\n",
              "    <tr>\n",
              "      <th>Total intl calls</th>\n",
              "      <td>3333.0</td>\n",
              "      <td>4.479448</td>\n",
              "      <td>2.461214</td>\n",
              "      <td>0.00</td>\n",
              "      <td>3.00</td>\n",
              "      <td>4.00</td>\n",
              "      <td>6.00</td>\n",
              "      <td>20.00</td>\n",
              "    </tr>\n",
              "    <tr>\n",
              "      <th>Total intl charge</th>\n",
              "      <td>3333.0</td>\n",
              "      <td>2.764581</td>\n",
              "      <td>0.753773</td>\n",
              "      <td>0.00</td>\n",
              "      <td>2.30</td>\n",
              "      <td>2.78</td>\n",
              "      <td>3.27</td>\n",
              "      <td>5.40</td>\n",
              "    </tr>\n",
              "    <tr>\n",
              "      <th>Customer service calls</th>\n",
              "      <td>3333.0</td>\n",
              "      <td>1.562856</td>\n",
              "      <td>1.315491</td>\n",
              "      <td>0.00</td>\n",
              "      <td>1.00</td>\n",
              "      <td>1.00</td>\n",
              "      <td>2.00</td>\n",
              "      <td>9.00</td>\n",
              "    </tr>\n",
              "  </tbody>\n",
              "</table>\n",
              "</div>"
            ],
            "text/plain": [
              "                         count        mean        std     min     25%     50%  \\\n",
              "Account length          3333.0  101.064806  39.822106    1.00   74.00  101.00   \n",
              "Area code               3333.0  437.182418  42.371290  408.00  408.00  415.00   \n",
              "Number vmail messages   3333.0    8.099010  13.688365    0.00    0.00    0.00   \n",
              "Total day minutes       3333.0  179.775098  54.467389    0.00  143.70  179.40   \n",
              "Total day calls         3333.0  100.435644  20.069084    0.00   87.00  101.00   \n",
              "Total day charge        3333.0   30.562307   9.259435    0.00   24.43   30.50   \n",
              "Total eve minutes       3333.0  200.980348  50.713844    0.00  166.60  201.40   \n",
              "Total eve calls         3333.0  100.114311  19.922625    0.00   87.00  100.00   \n",
              "Total eve charge        3333.0   17.083540   4.310668    0.00   14.16   17.12   \n",
              "Total night minutes     3333.0  200.872037  50.573847   23.20  167.00  201.20   \n",
              "Total night calls       3333.0  100.107711  19.568609   33.00   87.00  100.00   \n",
              "Total night charge      3333.0    9.039325   2.275873    1.04    7.52    9.05   \n",
              "Total intl minutes      3333.0   10.237294   2.791840    0.00    8.50   10.30   \n",
              "Total intl calls        3333.0    4.479448   2.461214    0.00    3.00    4.00   \n",
              "Total intl charge       3333.0    2.764581   0.753773    0.00    2.30    2.78   \n",
              "Customer service calls  3333.0    1.562856   1.315491    0.00    1.00    1.00   \n",
              "\n",
              "                           75%     max  \n",
              "Account length          127.00  243.00  \n",
              "Area code               510.00  510.00  \n",
              "Number vmail messages    20.00   51.00  \n",
              "Total day minutes       216.40  350.80  \n",
              "Total day calls         114.00  165.00  \n",
              "Total day charge         36.79   59.64  \n",
              "Total eve minutes       235.30  363.70  \n",
              "Total eve calls         114.00  170.00  \n",
              "Total eve charge         20.00   30.91  \n",
              "Total night minutes     235.30  395.00  \n",
              "Total night calls       113.00  175.00  \n",
              "Total night charge       10.59   17.77  \n",
              "Total intl minutes       12.10   20.00  \n",
              "Total intl calls          6.00   20.00  \n",
              "Total intl charge         3.27    5.40  \n",
              "Customer service calls    2.00    9.00  "
            ]
          },
          "execution_count": 4,
          "metadata": {},
          "output_type": "execute_result"
        }
      ],
      "source": [
        "# Статистический анализ числовых переменных\n",
        "cals_df.describe().T"
      ]
    },
    {
      "cell_type": "code",
      "execution_count": 5,
      "metadata": {},
      "outputs": [
        {
          "data": {
            "text/html": [
              "<div>\n",
              "<style scoped>\n",
              "    .dataframe tbody tr th:only-of-type {\n",
              "        vertical-align: middle;\n",
              "    }\n",
              "\n",
              "    .dataframe tbody tr th {\n",
              "        vertical-align: top;\n",
              "    }\n",
              "\n",
              "    .dataframe thead th {\n",
              "        text-align: right;\n",
              "    }\n",
              "</style>\n",
              "<table border=\"1\" class=\"dataframe\">\n",
              "  <thead>\n",
              "    <tr style=\"text-align: right;\">\n",
              "      <th></th>\n",
              "      <th>count</th>\n",
              "      <th>unique</th>\n",
              "      <th>top</th>\n",
              "      <th>freq</th>\n",
              "    </tr>\n",
              "  </thead>\n",
              "  <tbody>\n",
              "    <tr>\n",
              "      <th>State</th>\n",
              "      <td>3333</td>\n",
              "      <td>51</td>\n",
              "      <td>WV</td>\n",
              "      <td>106</td>\n",
              "    </tr>\n",
              "    <tr>\n",
              "      <th>International plan</th>\n",
              "      <td>3333</td>\n",
              "      <td>2</td>\n",
              "      <td>No</td>\n",
              "      <td>3010</td>\n",
              "    </tr>\n",
              "    <tr>\n",
              "      <th>Voice mail plan</th>\n",
              "      <td>3333</td>\n",
              "      <td>2</td>\n",
              "      <td>No</td>\n",
              "      <td>2411</td>\n",
              "    </tr>\n",
              "  </tbody>\n",
              "</table>\n",
              "</div>"
            ],
            "text/plain": [
              "                   count unique top  freq\n",
              "State               3333     51  WV   106\n",
              "International plan  3333      2  No  3010\n",
              "Voice mail plan     3333      2  No  2411"
            ]
          },
          "execution_count": 5,
          "metadata": {},
          "output_type": "execute_result"
        }
      ],
      "source": [
        "# Статистический анализ объектных переменных\n",
        "cals_df.describe(include='object').T"
      ]
    },
    {
      "cell_type": "code",
      "execution_count": 6,
      "metadata": {},
      "outputs": [
        {
          "name": "stdout",
          "output_type": "stream",
          "text": [
            "number of duplicate rows:  (0, 20)\n"
          ]
        }
      ],
      "source": [
        "# Проверка на дубликаты\n",
        "duplicate_df = cals_df[cals_df.duplicated()]\n",
        "print(\"number of duplicate rows: \", duplicate_df.shape)"
      ]
    },
    {
      "cell_type": "markdown",
      "metadata": {},
      "source": [
        "Дубликатов не обнаружено."
      ]
    },
    {
      "cell_type": "code",
      "execution_count": 7,
      "metadata": {},
      "outputs": [
        {
          "data": {
            "text/plain": [
              "False"
            ]
          },
          "execution_count": 7,
          "metadata": {},
          "output_type": "execute_result"
        }
      ],
      "source": [
        "# Проверка на NaN значения\n",
        "cals_df.isnull().any().any()"
      ]
    },
    {
      "cell_type": "code",
      "execution_count": null,
      "metadata": {},
      "outputs": [
        {
          "data": {
            "text/plain": [
              "State                     0\n",
              "Account length            0\n",
              "Area code                 0\n",
              "International plan        0\n",
              "Voice mail plan           0\n",
              "Number vmail messages     0\n",
              "Total day minutes         0\n",
              "Total day calls           0\n",
              "Total day charge          0\n",
              "Total eve minutes         0\n",
              "Total eve calls           0\n",
              "Total eve charge          0\n",
              "Total night minutes       0\n",
              "Total night calls         0\n",
              "Total night charge        0\n",
              "Total intl minutes        0\n",
              "Total intl calls          0\n",
              "Total intl charge         0\n",
              "Customer service calls    0\n",
              "Churn                     0\n",
              "dtype: int64"
            ]
          },
          "execution_count": 8,
          "metadata": {},
          "output_type": "execute_result"
        }
      ],
      "source": [
        "# Проверка на нулевые значения\n",
        "cals_df.isnull().sum()"
      ]
    },
    {
      "cell_type": "code",
      "execution_count": 9,
      "metadata": {},
      "outputs": [
        {
          "data": {
            "image/png": "[encoded data removed]",
            "text/plain": [
              "<Figure size 800x600 with 1 Axes>"
            ]
          },
          "metadata": {},
          "output_type": "display_data"
        }
      ],
      "source": [
        "# Визуализация пропущенных значений (тепловая карта)\n",
        "plt.figure(figsize=(8, 6))\n",
        "sns.heatmap(cals_df.isnull(), cbar=False, cmap='viridis')\n",
        "plt.title('Тепловая карта пропущенных значений')\n",
        "plt.show()"
      ]
    },
    {
      "cell_type": "markdown",
      "metadata": {},
      "source": [
        "Пропусков/NaN значений не обнаружено. "
      ]
    },
    {
      "cell_type": "code",
      "execution_count": 10,
      "metadata": {},
      "outputs": [
        {
          "data": {
            "image/png": "[encoded data removed]",
            "text/plain": [
              "<Figure size 1000x600 with 1 Axes>"
            ]
          },
          "metadata": {},
          "output_type": "display_data"
        }
      ],
      "source": [
        "# Установка стиля графиков\n",
        "sns.set(style=\"whitegrid\")\n",
        "\n",
        "# Визуализация распределения нескольких выбранных числовых переменных\n",
        "numerical_columns = cals_df.select_dtypes(include=['number'])\n",
        "\n",
        "plt.figure(figsize=(10, 6))\n",
        "sns.boxplot(data=numerical_columns)\n",
        "plt.title(\"Прямоугольные графики выбросов\")\n",
        "plt.xticks(rotation=45)  # Поворот меток по оси x для лучшей \n",
        "\n",
        "plt.tight_layout()\n",
        "plt.show()"
      ]
    },
    {
      "cell_type": "markdown",
      "metadata": {},
      "source": [
        "Наблюдаем в колонках множество выбросов, но задание пока не подразумевает их очистку, выполним когда потребуется, чтобы не исказить данные, которые возможно мы должны получить."
      ]
    },
    {
      "cell_type": "code",
      "execution_count": 11,
      "metadata": {
        "id": "7U6J16EVx0iy"
      },
      "outputs": [],
      "source": [
        "# Удаляем колонку State согласно условиям задания\n",
        "cals_df = cals_df.drop('State', axis=1)"
      ]
    },
    {
      "cell_type": "code",
      "execution_count": 12,
      "metadata": {},
      "outputs": [
        {
          "name": "stdout",
          "output_type": "stream",
          "text": [
            "   International plan  Voice mail plan  Churn\n",
            "0                   0                1      0\n",
            "1                   0                1      0\n",
            "2                   0                0      0\n",
            "3                   1                0      0\n",
            "4                   1                0      0\n"
          ]
        }
      ],
      "source": [
        "# Кодирование столбцов International plan и Voice mail plan\n",
        "cals_df['International plan'] = cals_df['International plan'].map({'Yes': 1, 'No': 0})\n",
        "cals_df['Voice mail plan'] = cals_df['Voice mail plan'].map({'Yes': 1, 'No': 0})\n",
        "\n",
        "# Преобразование целевой переменной Churn\n",
        "cals_df['Churn'] = cals_df['Churn'].astype(int)\n",
        "\n",
        "# Проверка изменений\n",
        "print(cals_df[['International plan', 'Voice mail plan', 'Churn']].head())"
      ]
    },
    {
      "cell_type": "markdown",
      "metadata": {
        "id": "N2hAu7tmy0Ps"
      },
      "source": [
        "Выведите на экран первые строки изменённой таблицы, чтобы проверить, что все преобразования сработали."
      ]
    },
    {
      "cell_type": "code",
      "execution_count": 13,
      "metadata": {},
      "outputs": [
        {
          "data": {
            "text/html": [
              "<div>\n",
              "<style scoped>\n",
              "    .dataframe tbody tr th:only-of-type {\n",
              "        vertical-align: middle;\n",
              "    }\n",
              "\n",
              "    .dataframe tbody tr th {\n",
              "        vertical-align: top;\n",
              "    }\n",
              "\n",
              "    .dataframe thead th {\n",
              "        text-align: right;\n",
              "    }\n",
              "</style>\n",
              "<table border=\"1\" class=\"dataframe\">\n",
              "  <thead>\n",
              "    <tr style=\"text-align: right;\">\n",
              "      <th></th>\n",
              "      <th>Account length</th>\n",
              "      <th>Area code</th>\n",
              "      <th>International plan</th>\n",
              "      <th>Voice mail plan</th>\n",
              "      <th>Number vmail messages</th>\n",
              "      <th>Total day minutes</th>\n",
              "      <th>Total day calls</th>\n",
              "      <th>Total day charge</th>\n",
              "      <th>Total eve minutes</th>\n",
              "      <th>Total eve calls</th>\n",
              "      <th>Total eve charge</th>\n",
              "      <th>Total night minutes</th>\n",
              "      <th>Total night calls</th>\n",
              "      <th>Total night charge</th>\n",
              "      <th>Total intl minutes</th>\n",
              "      <th>Total intl calls</th>\n",
              "      <th>Total intl charge</th>\n",
              "      <th>Customer service calls</th>\n",
              "      <th>Churn</th>\n",
              "    </tr>\n",
              "  </thead>\n",
              "  <tbody>\n",
              "    <tr>\n",
              "      <th>0</th>\n",
              "      <td>128</td>\n",
              "      <td>415</td>\n",
              "      <td>0</td>\n",
              "      <td>1</td>\n",
              "      <td>25</td>\n",
              "      <td>265.1</td>\n",
              "      <td>110</td>\n",
              "      <td>45.07</td>\n",
              "      <td>197.4</td>\n",
              "      <td>99</td>\n",
              "      <td>16.78</td>\n",
              "      <td>244.7</td>\n",
              "      <td>91</td>\n",
              "      <td>11.01</td>\n",
              "      <td>10.0</td>\n",
              "      <td>3</td>\n",
              "      <td>2.70</td>\n",
              "      <td>1</td>\n",
              "      <td>0</td>\n",
              "    </tr>\n",
              "    <tr>\n",
              "      <th>1</th>\n",
              "      <td>107</td>\n",
              "      <td>415</td>\n",
              "      <td>0</td>\n",
              "      <td>1</td>\n",
              "      <td>26</td>\n",
              "      <td>161.6</td>\n",
              "      <td>123</td>\n",
              "      <td>27.47</td>\n",
              "      <td>195.5</td>\n",
              "      <td>103</td>\n",
              "      <td>16.62</td>\n",
              "      <td>254.4</td>\n",
              "      <td>103</td>\n",
              "      <td>11.45</td>\n",
              "      <td>13.7</td>\n",
              "      <td>3</td>\n",
              "      <td>3.70</td>\n",
              "      <td>1</td>\n",
              "      <td>0</td>\n",
              "    </tr>\n",
              "    <tr>\n",
              "      <th>2</th>\n",
              "      <td>137</td>\n",
              "      <td>415</td>\n",
              "      <td>0</td>\n",
              "      <td>0</td>\n",
              "      <td>0</td>\n",
              "      <td>243.4</td>\n",
              "      <td>114</td>\n",
              "      <td>41.38</td>\n",
              "      <td>121.2</td>\n",
              "      <td>110</td>\n",
              "      <td>10.30</td>\n",
              "      <td>162.6</td>\n",
              "      <td>104</td>\n",
              "      <td>7.32</td>\n",
              "      <td>12.2</td>\n",
              "      <td>5</td>\n",
              "      <td>3.29</td>\n",
              "      <td>0</td>\n",
              "      <td>0</td>\n",
              "    </tr>\n",
              "    <tr>\n",
              "      <th>3</th>\n",
              "      <td>84</td>\n",
              "      <td>408</td>\n",
              "      <td>1</td>\n",
              "      <td>0</td>\n",
              "      <td>0</td>\n",
              "      <td>299.4</td>\n",
              "      <td>71</td>\n",
              "      <td>50.90</td>\n",
              "      <td>61.9</td>\n",
              "      <td>88</td>\n",
              "      <td>5.26</td>\n",
              "      <td>196.9</td>\n",
              "      <td>89</td>\n",
              "      <td>8.86</td>\n",
              "      <td>6.6</td>\n",
              "      <td>7</td>\n",
              "      <td>1.78</td>\n",
              "      <td>2</td>\n",
              "      <td>0</td>\n",
              "    </tr>\n",
              "    <tr>\n",
              "      <th>4</th>\n",
              "      <td>75</td>\n",
              "      <td>415</td>\n",
              "      <td>1</td>\n",
              "      <td>0</td>\n",
              "      <td>0</td>\n",
              "      <td>166.7</td>\n",
              "      <td>113</td>\n",
              "      <td>28.34</td>\n",
              "      <td>148.3</td>\n",
              "      <td>122</td>\n",
              "      <td>12.61</td>\n",
              "      <td>186.9</td>\n",
              "      <td>121</td>\n",
              "      <td>8.41</td>\n",
              "      <td>10.1</td>\n",
              "      <td>3</td>\n",
              "      <td>2.73</td>\n",
              "      <td>3</td>\n",
              "      <td>0</td>\n",
              "    </tr>\n",
              "  </tbody>\n",
              "</table>\n",
              "</div>"
            ],
            "text/plain": [
              "   Account length  Area code  International plan  Voice mail plan  \\\n",
              "0             128        415                   0                1   \n",
              "1             107        415                   0                1   \n",
              "2             137        415                   0                0   \n",
              "3              84        408                   1                0   \n",
              "4              75        415                   1                0   \n",
              "\n",
              "   Number vmail messages  Total day minutes  Total day calls  \\\n",
              "0                     25              265.1              110   \n",
              "1                     26              161.6              123   \n",
              "2                      0              243.4              114   \n",
              "3                      0              299.4               71   \n",
              "4                      0              166.7              113   \n",
              "\n",
              "   Total day charge  Total eve minutes  Total eve calls  Total eve charge  \\\n",
              "0             45.07              197.4               99             16.78   \n",
              "1             27.47              195.5              103             16.62   \n",
              "2             41.38              121.2              110             10.30   \n",
              "3             50.90               61.9               88              5.26   \n",
              "4             28.34              148.3              122             12.61   \n",
              "\n",
              "   Total night minutes  Total night calls  Total night charge  \\\n",
              "0                244.7                 91               11.01   \n",
              "1                254.4                103               11.45   \n",
              "2                162.6                104                7.32   \n",
              "3                196.9                 89                8.86   \n",
              "4                186.9                121                8.41   \n",
              "\n",
              "   Total intl minutes  Total intl calls  Total intl charge  \\\n",
              "0                10.0                 3               2.70   \n",
              "1                13.7                 3               3.70   \n",
              "2                12.2                 5               3.29   \n",
              "3                 6.6                 7               1.78   \n",
              "4                10.1                 3               2.73   \n",
              "\n",
              "   Customer service calls  Churn  \n",
              "0                       1      0  \n",
              "1                       1      0  \n",
              "2                       0      0  \n",
              "3                       2      0  \n",
              "4                       3      0  "
            ]
          },
          "execution_count": 13,
          "metadata": {},
          "output_type": "execute_result"
        }
      ],
      "source": [
        "cals_df.head()"
      ]
    },
    {
      "cell_type": "code",
      "execution_count": 14,
      "metadata": {
        "id": "lG9oOv0uydW8"
      },
      "outputs": [
        {
          "name": "stdout",
          "output_type": "stream",
          "text": [
            "<class 'pandas.core.frame.DataFrame'>\n",
            "RangeIndex: 3333 entries, 0 to 3332\n",
            "Data columns (total 19 columns):\n",
            " #   Column                  Non-Null Count  Dtype  \n",
            "---  ------                  --------------  -----  \n",
            " 0   Account length          3333 non-null   int64  \n",
            " 1   Area code               3333 non-null   int64  \n",
            " 2   International plan      3333 non-null   int64  \n",
            " 3   Voice mail plan         3333 non-null   int64  \n",
            " 4   Number vmail messages   3333 non-null   int64  \n",
            " 5   Total day minutes       3333 non-null   float64\n",
            " 6   Total day calls         3333 non-null   int64  \n",
            " 7   Total day charge        3333 non-null   float64\n",
            " 8   Total eve minutes       3333 non-null   float64\n",
            " 9   Total eve calls         3333 non-null   int64  \n",
            " 10  Total eve charge        3333 non-null   float64\n",
            " 11  Total night minutes     3333 non-null   float64\n",
            " 12  Total night calls       3333 non-null   int64  \n",
            " 13  Total night charge      3333 non-null   float64\n",
            " 14  Total intl minutes      3333 non-null   float64\n",
            " 15  Total intl calls        3333 non-null   int64  \n",
            " 16  Total intl charge       3333 non-null   float64\n",
            " 17  Customer service calls  3333 non-null   int64  \n",
            " 18  Churn                   3333 non-null   int32  \n",
            "dtypes: float64(8), int32(1), int64(10)\n",
            "memory usage: 481.8 KB\n"
          ]
        }
      ],
      "source": [
        "cals_df.info()"
      ]
    },
    {
      "cell_type": "markdown",
      "metadata": {},
      "source": [
        "Можем наблюдать, что остались только int64 и float64 форматы данных."
      ]
    },
    {
      "cell_type": "markdown",
      "metadata": {
        "id": "6_y9azfEzBYd"
      },
      "source": [
        "Создайте матрицу объект-признак X и вектор с целевой переменной (Churn) y."
      ]
    },
    {
      "cell_type": "code",
      "execution_count": 15,
      "metadata": {
        "id": "Nd0nCW4eypLE"
      },
      "outputs": [],
      "source": [
        "# Убираем целевую переменную Churn из X\n",
        "X = cals_df.drop(columns=['Churn'])\n",
        "\n",
        "# Создание вектора целевой переменной y\n",
        "y = cals_df['Churn']"
      ]
    },
    {
      "cell_type": "markdown",
      "metadata": {
        "id": "NEvkoGWw1hFL"
      },
      "source": [
        "Проверьте баланс классов. Является ли выборка сбалансированной?"
      ]
    },
    {
      "cell_type": "code",
      "execution_count": 16,
      "metadata": {
        "id": "RpPcEOAm1keZ"
      },
      "outputs": [
        {
          "data": {
            "text/plain": [
              "Churn\n",
              "0    2850\n",
              "1     483\n",
              "Name: count, dtype: int64"
            ]
          },
          "execution_count": 16,
          "metadata": {},
          "output_type": "execute_result"
        }
      ],
      "source": [
        "cals_df['Churn'].value_counts()"
      ]
    },
    {
      "cell_type": "code",
      "execution_count": 17,
      "metadata": {},
      "outputs": [
        {
          "name": "stderr",
          "output_type": "stream",
          "text": [
            "C:\\Users\\Esdesu\\AppData\\Local\\Temp\\ipykernel_15888\\2589177034.py:3: FutureWarning: \n",
            "\n",
            "Passing `palette` without assigning `hue` is deprecated and will be removed in v0.14.0. Assign the `x` variable to `hue` and set `legend=False` for the same effect.\n",
            "\n",
            "  sns.countplot(x='Churn', data=cals_df, palette='Set2')\n"
          ]
        },
        {
          "data": {
            "image/png": "[encoded data removed]",
            "text/plain": [
              "<Figure size 600x400 with 1 Axes>"
            ]
          },
          "metadata": {},
          "output_type": "display_data"
        }
      ],
      "source": [
        "# Проверка баланса категириональных признаков\n",
        "plt.figure(figsize=(6, 4))\n",
        "sns.countplot(x='Churn', data=cals_df, palette='Set2')\n",
        "plt.title(\"Распределение Churn\")\n",
        "plt.show()"
      ]
    },
    {
      "cell_type": "markdown",
      "metadata": {},
      "source": [
        "Наблюдаем сильный дисбаланс классов перекос в около 80%."
      ]
    },
    {
      "cell_type": "markdown",
      "metadata": {},
      "source": [
        "Я бы перед дальнейшем тренировании модели отчистил данные от выбросов и сбалансировал целевую переменную, однако такой задачи не стоит по этому опускаем это чтобы получить то, что задумывал преподаватель."
      ]
    },
    {
      "cell_type": "markdown",
      "metadata": {
        "id": "AYFme2HyzQxL"
      },
      "source": [
        "Разбейте данные на тренировочную и тестовую части, размер тестовой части — 30%."
      ]
    },
    {
      "cell_type": "code",
      "execution_count": 18,
      "metadata": {
        "id": "Cj13GmJlzQDS"
      },
      "outputs": [
        {
          "name": "stdout",
          "output_type": "stream",
          "text": [
            "Размер обучающего набора: (2333, 18)\n",
            "Размер тестового набора: (1000, 18)\n"
          ]
        }
      ],
      "source": [
        "# Разделение данных на тренировочную и тестовую выборки\n",
        "X_train, X_test, y_train, y_test = train_test_split(X, y, test_size=0.3, random_state=42) # Параметр test_size=0.3 указывает, что 30% данных будет отведено для тестовой выборки.\n",
        "\n",
        "# Выводим размеры\n",
        "print(\"Размер обучающего набора:\", X_train.shape)\n",
        "print(\"Размер тестового набора:\", X_test.shape)"
      ]
    },
    {
      "cell_type": "markdown",
      "metadata": {
        "id": "GbuDWle1z2Uh"
      },
      "source": [
        "Для линейных моделей очень важно масштабирование признаков. Поэтому отмасштабируйте признаки при помощи [StandardScaler](https://scikit-learn.org/stable/modules/generated/sklearn.preprocessing.StandardScaler.html), обучив метод на тренировочных данных и применив его и к трейну, и к тесту."
      ]
    },
    {
      "cell_type": "code",
      "execution_count": 19,
      "metadata": {
        "id": "69H1fh7VzaZf"
      },
      "outputs": [
        {
          "name": "stdout",
          "output_type": "stream",
          "text": [
            "Отмасштабированные данные X_train:\n",
            "[[-0.5119373   1.74045355 -0.32428911 -0.61219198 -0.5854825   0.41071564\n",
            "   0.87374876  0.4108768   1.16710225 -1.64631662  1.16773319 -0.45696104\n",
            "   0.6154429  -0.45828231 -0.37368209  0.22663899 -0.37964317  1.07331888]\n",
            " [-0.93900218  1.74045355 -0.32428911 -0.61219198 -0.5854825  -0.86471343\n",
            "   1.07487413 -0.86509518 -2.63902073 -1.89535096 -2.63790053 -0.79079045\n",
            "   1.07503868 -0.78992508 -0.12283524 -0.99731649 -0.12747878  1.07331888]\n",
            " [ 0.39243537  1.74045355 -0.32428911  1.63347452  0.28917962  0.75205349\n",
            "   0.37093535  0.75199959 -0.98418465  0.89383368 -0.98307564 -0.4255418\n",
            "  -1.01867543 -0.42337255 -0.44535262  0.63462415 -0.44600221  0.3233779 ]\n",
            " [-0.73803047 -0.51584265 -0.32428911 -0.61219198 -0.5854825   1.81460518\n",
            "   0.47149803  1.81423007 -0.21192781 -1.64631662 -0.21128755  1.07079943\n",
            "  -0.81441064  1.06901989  0.52219952  1.04260932  0.52283991 -1.17650408]\n",
            " [ 0.49292123  1.74045355 -0.32428911  1.63347452  2.54872343 -0.03889605\n",
            "   0.82346742 -0.03927575 -0.5094043  -1.49689601 -0.51026852 -0.77311713\n",
            "   0.87077389 -0.77247019  0.45052899 -0.18134617  0.45648086 -0.42656309]]\n",
            "\n",
            "Отмасштабированные данные X_test:\n",
            "[[ 0.31707098  1.74045355 -0.32428911 -0.61219198 -0.5854825  -0.45914534\n",
            "  -0.38328477 -0.45920223  2.55401249  0.29615126  2.55370699 -0.22131675\n",
            "   1.17717107 -0.2226414   1.16723428 -0.58933133  1.17315859 -0.42656309]\n",
            " [-0.83851632 -0.51584265 -0.32428911 -0.61219198 -0.5854825  -1.30147907\n",
            "   0.82346742 -1.30121419  0.32392387  1.19267489  0.32409697 -0.24095378\n",
            "   2.09636264 -0.24009628  0.91638743  0.63462415  0.9209942  -1.17650408]\n",
            " [-0.05975096 -0.51584265 -0.32428911 -0.61219198 -0.5854825  -3.30362743\n",
            "  -5.05944952 -3.30369136 -0.81476096  1.4915161  -0.81388486 -0.65922239\n",
            "  -0.61014585 -0.65901346 -1.23372843 -1.40530166 -1.229039    1.82325987]\n",
            " [ 1.17120073 -0.68209605 -0.32428911 -0.61219198 -0.5854825   0.60157121\n",
            "  -1.08722355  0.60194874  0.06190816 -0.45095177  0.06219891 -0.87326595\n",
            "   0.6665091  -0.87283577 -0.01532944 -0.99731649 -0.0213043  -0.42656309]\n",
            " [-0.10999389 -0.68209605 -0.32428911 -0.61219198 -0.5854825  -0.66101181\n",
            "   0.0692473  -0.6610692   0.467737   -1.34747541  0.46779325  0.53078127\n",
            "  -0.45694725  0.53228226 -0.08699997  1.04260932 -0.08766335 -0.42656309]]\n"
          ]
        }
      ],
      "source": [
        "# Создание экземпляра StandardScaler\n",
        "scaler = StandardScaler()\n",
        "\n",
        "# Обучение scaler на тренировочных данных и преобразование X_train\n",
        "X_train_scaled = scaler.fit_transform(X_train)\n",
        "\n",
        "# Применение scaler к тестовым данным\n",
        "X_test_scaled = scaler.transform(X_test)\n",
        "\n",
        "# Проверка размеров и первых нескольких значений отмасштабированных данных\n",
        "print(\"Отмасштабированные данные X_train:\")\n",
        "print(X_train_scaled[:5])  # первые 5 строк\n",
        "print(\"\\nОтмасштабированные данные X_test:\")\n",
        "print(X_test_scaled[:5])  # первые 5 строк"
      ]
    },
    {
      "cell_type": "markdown",
      "metadata": {
        "id": "zvAH5Qte0W50"
      },
      "source": [
        "После масштабирования признаков X_train и X_test перестали быть объектами типа pd.DataFrame, это неудобно. Приведите их снова к pd.DataFrame."
      ]
    },
    {
      "cell_type": "code",
      "execution_count": 20,
      "metadata": {
        "id": "PRlpMQ750WSU"
      },
      "outputs": [
        {
          "name": "stdout",
          "output_type": "stream",
          "text": [
            "Отмасштабированные данные X_train в формате DataFrame:\n",
            "      Account length  Area code  International plan  Voice mail plan  \\\n",
            "2016       -0.511937   1.740454           -0.324289        -0.612192   \n",
            "1362       -0.939002   1.740454           -0.324289        -0.612192   \n",
            "2670        0.392435   1.740454           -0.324289         1.633475   \n",
            "2210       -0.738030  -0.515843           -0.324289        -0.612192   \n",
            "1846        0.492921   1.740454           -0.324289         1.633475   \n",
            "\n",
            "      Number vmail messages  Total day minutes  Total day calls  \\\n",
            "2016              -0.585483           0.410716         0.873749   \n",
            "1362              -0.585483          -0.864713         1.074874   \n",
            "2670               0.289180           0.752053         0.370935   \n",
            "2210              -0.585483           1.814605         0.471498   \n",
            "1846               2.548723          -0.038896         0.823467   \n",
            "\n",
            "      Total day charge  Total eve minutes  Total eve calls  Total eve charge  \\\n",
            "2016          0.410877           1.167102        -1.646317          1.167733   \n",
            "1362         -0.865095          -2.639021        -1.895351         -2.637901   \n",
            "2670          0.752000          -0.984185         0.893834         -0.983076   \n",
            "2210          1.814230          -0.211928        -1.646317         -0.211288   \n",
            "1846         -0.039276          -0.509404        -1.496896         -0.510269   \n",
            "\n",
            "      Total night minutes  Total night calls  Total night charge  \\\n",
            "2016            -0.456961           0.615443           -0.458282   \n",
            "1362            -0.790790           1.075039           -0.789925   \n",
            "2670            -0.425542          -1.018675           -0.423373   \n",
            "2210             1.070799          -0.814411            1.069020   \n",
            "1846            -0.773117           0.870774           -0.772470   \n",
            "\n",
            "      Total intl minutes  Total intl calls  Total intl charge  \\\n",
            "2016           -0.373682          0.226639          -0.379643   \n",
            "1362           -0.122835         -0.997316          -0.127479   \n",
            "2670           -0.445353          0.634624          -0.446002   \n",
            "2210            0.522200          1.042609           0.522840   \n",
            "1846            0.450529         -0.181346           0.456481   \n",
            "\n",
            "      Customer service calls  \n",
            "2016                1.073319  \n",
            "1362                1.073319  \n",
            "2670                0.323378  \n",
            "2210               -1.176504  \n",
            "1846               -0.426563  \n",
            "\n",
            "Отмасштабированные данные X_test в формате DataFrame:\n",
            "      Account length  Area code  International plan  Voice mail plan  \\\n",
            "438         0.317071   1.740454           -0.324289        -0.612192   \n",
            "2674       -0.838516  -0.515843           -0.324289        -0.612192   \n",
            "1345       -0.059751  -0.515843           -0.324289        -0.612192   \n",
            "1957        1.171201  -0.682096           -0.324289        -0.612192   \n",
            "2148       -0.109994  -0.682096           -0.324289        -0.612192   \n",
            "\n",
            "      Number vmail messages  Total day minutes  Total day calls  \\\n",
            "438               -0.585483          -0.459145        -0.383285   \n",
            "2674              -0.585483          -1.301479         0.823467   \n",
            "1345              -0.585483          -3.303627        -5.059450   \n",
            "1957              -0.585483           0.601571        -1.087224   \n",
            "2148              -0.585483          -0.661012         0.069247   \n",
            "\n",
            "      Total day charge  Total eve minutes  Total eve calls  Total eve charge  \\\n",
            "438          -0.459202           2.554012         0.296151          2.553707   \n",
            "2674         -1.301214           0.323924         1.192675          0.324097   \n",
            "1345         -3.303691          -0.814761         1.491516         -0.813885   \n",
            "1957          0.601949           0.061908        -0.450952          0.062199   \n",
            "2148         -0.661069           0.467737        -1.347475          0.467793   \n",
            "\n",
            "      Total night minutes  Total night calls  Total night charge  \\\n",
            "438             -0.221317           1.177171           -0.222641   \n",
            "2674            -0.240954           2.096363           -0.240096   \n",
            "1345            -0.659222          -0.610146           -0.659013   \n",
            "1957            -0.873266           0.666509           -0.872836   \n",
            "2148             0.530781          -0.456947            0.532282   \n",
            "\n",
            "      Total intl minutes  Total intl calls  Total intl charge  \\\n",
            "438             1.167234         -0.589331           1.173159   \n",
            "2674            0.916387          0.634624           0.920994   \n",
            "1345           -1.233728         -1.405302          -1.229039   \n",
            "1957           -0.015329         -0.997316          -0.021304   \n",
            "2148           -0.087000          1.042609          -0.087663   \n",
            "\n",
            "      Customer service calls  \n",
            "438                -0.426563  \n",
            "2674               -1.176504  \n",
            "1345                1.823260  \n",
            "1957               -0.426563  \n",
            "2148               -0.426563  \n"
          ]
        }
      ],
      "source": [
        "# Приведение отмасштабированных данных к типу pd.DataFrame\n",
        "X_train_scaled_df = pd.DataFrame(X_train_scaled, columns=X_train.columns, index=X_train.index)\n",
        "X_test_scaled_df = pd.DataFrame(X_test_scaled, columns=X_test.columns, index=X_test.index)\n",
        "\n",
        "# Проверка первых нескольких строк отмасштабированных DataFrame\n",
        "print(\"Отмасштабированные данные X_train в формате DataFrame:\")\n",
        "print(X_train_scaled_df.head())  # первые 5 строк\n",
        "print(\"\\nОтмасштабированные данные X_test в формате DataFrame:\")\n",
        "print(X_test_scaled_df.head())  # первые 5 ст"
      ]
    },
    {
      "cell_type": "markdown",
      "metadata": {
        "id": "253CDINX1TmR"
      },
      "source": [
        "Обучите на тренировочных данных с параметрами по умолчанию:\n",
        "\n",
        "1) логистическую регрессию;\n",
        "\n",
        "2) метод опорных векторов (с kernel='linear')."
      ]
    },
    {
      "cell_type": "code",
      "execution_count": 21,
      "metadata": {
        "id": "GsQW48lf1SxJ"
      },
      "outputs": [
        {
          "name": "stdout",
          "output_type": "stream",
          "text": [
            "Точность логистической регрессии: 0.8620\n"
          ]
        }
      ],
      "source": [
        "# 1. Обучение логистической регрессии\n",
        "logistic_model = LogisticRegression()\n",
        "logistic_model.fit(X_train_scaled_df, y_train)\n",
        "\n",
        "# Прогнозирование на тестовых данных\n",
        "y_pred_logistic = logistic_model.predict(X_test_scaled_df)\n",
        "\n",
        "# Оценка точности модели логистической регрессии\n",
        "accuracy_logistic = accuracy_score(y_test, y_pred_logistic)\n",
        "print(f\"Точность логистической регрессии: {accuracy_logistic:.4f}\")"
      ]
    },
    {
      "cell_type": "code",
      "execution_count": 22,
      "metadata": {},
      "outputs": [
        {
          "name": "stdout",
          "output_type": "stream",
          "text": [
            "Точность метода опорных векторов: 0.8570\n"
          ]
        }
      ],
      "source": [
        "# 2. Обучение метода опорных векторов с линейным ядром\n",
        "svm_model = SVC(kernel='linear')\n",
        "svm_model.fit(X_train_scaled_df, y_train)\n",
        "\n",
        "# Прогнозирование на тестовых данных\n",
        "y_pred_svm = svm_model.predict(X_test_scaled_df)\n",
        "\n",
        "# Оценка точности модели SVM\n",
        "accuracy_svm = accuracy_score(y_test, y_pred_svm)\n",
        "print(f\"Точность метода опорных векторов: {accuracy_svm:.4f}\")"
      ]
    },
    {
      "cell_type": "markdown",
      "metadata": {
        "id": "HZszTXSb110B"
      },
      "source": [
        "С помощью обученных моделей сделайте предсказание на тестовых данных."
      ]
    },
    {
      "cell_type": "code",
      "execution_count": null,
      "metadata": {
        "id": "W9IUlgV011PP"
      },
      "outputs": [],
      "source": [
        "# Разделим данные на тренировочные и тестовые выборки\n",
        "X_train_raw, X_test_raw, y_train_raw, y_test_raw = train_test_split(X, y, test_size=0.3, random_state=42)\n",
        "\n",
        "# Обучение дерева решений без масштабирования\n",
        "decision_tree_model_raw = DecisionTreeClassifier()\n",
        "decision_tree_model_raw.fit(X_train_raw, y_train_raw)\n",
        "\n",
        "# Предсказание на тестовых данных без масштабирования\n",
        "y_pred_tree_raw = decision_tree_model_raw.predict(X_test_raw)\n",
        "y_pred_proba_raw = decision_tree_model_raw.predict_proba(X_test_raw)[:, 1]  # Вероятности для ROC AUC\n",
        "\n",
        "# Оценка точности и ROC AUC дерева решений без масштабирования\n",
        "accuracy_tree_raw = accuracy_score(y_test_raw, y_pred_tree_raw)\n",
        "roc_auc_tree_raw = roc_auc_score(y_test_raw, y_pred_proba_raw)\n",
        "\n",
        "print(f\"Точность дерева решений без масштабирования: {accuracy_tree_raw:.4f}\")\n",
        "print(f\"ROC AUC дерева решений без масштабирования: {roc_auc_tree_raw:.4f}\")\n",
        "\n",
        "# Масштабирование данных\n",
        "scaler = StandardScaler()\n",
        "X_train_scaled = scaler.fit_transform(X_train_raw)\n",
        "X_test_scaled = scaler.transform(X_test_raw)\n",
        "\n",
        "# Обучение дерева решений с масштабированием\n",
        "decision_tree_model_scaled = DecisionTreeClassifier()\n",
        "decision_tree_model_scaled.fit(X_train_scaled, y_train_raw)\n",
        "\n",
        "# Предсказание на тестовых данных с масштабированием\n",
        "y_pred_tree_scaled = decision_tree_model_scaled.predict(X_test_scaled)\n",
        "y_pred_proba_scaled = decision_tree_model_scaled.predict_proba(X_test_scaled)[:, 1]  # Вероятности для ROC AUC\n",
        "\n",
        "# Оценка точности и ROC AUC дерева решений с масштабированием\n",
        "accuracy_tree_scaled = accuracy_score(y_test_raw, y_pred_tree_scaled)\n",
        "roc_auc_tree_scaled = roc_auc_score(y_test_raw, y_pred_proba_scaled)\n",
        "\n",
        "print(f\"Точность дерева решений с масштабированием: {accuracy_tree_scaled:.4f}\")\n",
        "print(f\"ROC AUC дерева решений с масштабированием: {roc_auc_tree_scaled:.4f}\")\n",
        "\n",
        "# Сравнение фактических и предсказанных значений без масштабирования\n",
        "predictions_df_raw = pd.DataFrame({\n",
        "    'Actual': y_test_raw,\n",
        "    'Decision_Tree_Predicted_Raw': y_pred_tree_raw\n",
        "})\n",
        "\n",
        "# Сравнение фактических и предсказанных значений с масштабированием\n",
        "predictions_df_scaled = pd.DataFrame({\n",
        "    'Actual': y_test_raw,\n",
        "    'Decision_Tree_Predicted_Scaled': y_pred_tree_scaled\n",
        "})\n",
        "\n",
        "# Вывод первых нескольких строк DataFrame с предсказаниями\n",
        "print(\"\\nСравнение фактических и предсказанных значений без масштабирования:\")\n",
        "print(predictions_df_raw.head())\n",
        "\n",
        "print(\"\\nСравнение фактических и предсказанных значений с масштабированием:\")\n",
        "print(predictions_df_scaled.head())\n"
      ]
    },
    {
      "cell_type": "code",
      "execution_count": null,
      "metadata": {},
      "outputs": [],
      "source": [
        "ghjb"
      ]
    },
    {
      "cell_type": "markdown",
      "metadata": {
        "id": "mVgXsdO02iVG"
      },
      "source": [
        "Теперь обучите решающее дерево с параметрами по умолчанию на тренировочных данных, сделайте предсказание на тесте. Используйте метрику для оценки."
      ]
    },
    {
      "cell_type": "code",
      "execution_count": null,
      "metadata": {
        "id": "yc822SQa2Zsc"
      },
      "outputs": [],
      "source": [
        "from sklearn.tree import DecisionTreeClassifier\n",
        "\n",
        "# Предсказание на тестовых данных с использованием логистической регрессии\n",
        "y_pred_logistic = logistic_model.predict(X_test_scaled_df)\n",
        "\n",
        "# Предсказание на тестовых данных с использованием метода опорных векторов\n",
        "y_pred_svm = svm_model.predict(X_test_scaled_df)\n",
        "\n",
        "# Вывод предсказаний\n",
        "print(\"Предсказания логистической регрессии:\")\n",
        "print(y_pred_logistic)\n",
        "\n",
        "print(\"\\nПредсказания метода опорных векторов (SVM):\")\n",
        "print(y_pred_svm)\n",
        "\n",
        "# Преобразование предсказаний в DataFrame\n",
        "predictions_df = pd.DataFrame({\n",
        "    'Actual': y_test,\n",
        "    'Logistic_Regression_Predicted': y_pred_logistic,\n",
        "    'SVM_Predicted': y_pred_svm\n",
        "})\n",
        "\n",
        "# Вывод первых нескольких строк DataFrame с предсказаниями\n",
        "print(\"\\nСравнение фактических и предсказанных значений:\")\n",
        "print(predictions_df.head())"
      ]
    },
    {
      "cell_type": "markdown",
      "metadata": {
        "id": "wNSwPGPl22zf"
      },
      "source": [
        "Нужно ли масшабировать признаки для обучения решающего дерева? Проверьте это, заново разбив данные на тренировочную и тестовую части (назовите новые полученные объекты новыми названиями), и проведите обучение, предсказание и оценку метрики до масштабирования и после."
      ]
    },
    {
      "cell_type": "code",
      "execution_count": null,
      "metadata": {
        "id": "t0tjFrP02yIR"
      },
      "outputs": [],
      "source": [
        "# Разделим данные на тренировочные и тестовые выборки\n",
        "X_train_raw, X_test_raw, y_train_raw, y_test_raw = train_test_split(X, y, test_size=0.3, random_state=42)\n",
        "\n",
        "# Обучение дерева решений без масштабирования\n",
        "decision_tree_model_raw = DecisionTreeClassifier()\n",
        "decision_tree_model_raw.fit(X_train_raw, y_train_raw)\n",
        "\n",
        "# Предсказание на тестовых данных без масштабирования\n",
        "y_pred_tree_raw = decision_tree_model_raw.predict(X_test_raw)\n",
        "\n",
        "# Оценка точности дерева решений без масштабирования\n",
        "accuracy_tree_raw = accuracy_score(y_test_raw, y_pred_tree_raw)\n",
        "\n",
        "print(f\"Точность дерева решений без масштабирования: {accuracy_tree_raw:.4f}\")\n",
        "\n",
        "# Теперь масштабируем данные\n",
        "scaler = StandardScaler()\n",
        "X_train_scaled = scaler.fit_transform(X_train_raw)\n",
        "X_test_scaled = scaler.transform(X_test_raw)\n",
        "\n",
        "# Обучение дерева решений с масштабированием\n",
        "decision_tree_model_scaled = DecisionTreeClassifier()\n",
        "decision_tree_model_scaled.fit(X_train_scaled, y_train_raw)\n",
        "\n",
        "# Предсказание на тестовых данных с масштабированием\n",
        "y_pred_tree_scaled = decision_tree_model_scaled.predict(X_test_scaled)\n",
        "\n",
        "# Оценка точности дерева решений с масштабированием\n",
        "accuracy_tree_scaled = accuracy_score(y_test_raw, y_pred_tree_scaled)\n",
        "\n",
        "print(f\"Точность дерева решений с масштабированием: {accuracy_tree_scaled:.4f}\")\n",
        "\n",
        "# Сравнение фактических и предсказанных значений без масштабирования\n",
        "predictions_df_raw = pd.DataFrame({\n",
        "    'Actual': y_test_raw,\n",
        "    'Decision_Tree_Predicted_Raw': y_pred_tree_raw\n",
        "})\n",
        "\n",
        "# Сравнение фактических и предсказанных значений с масштабированием\n",
        "predictions_df_scaled = pd.DataFrame({\n",
        "    'Actual': y_test_raw,\n",
        "    'Decision_Tree_Predicted_Scaled': y_pred_tree_scaled\n",
        "})\n",
        "\n",
        "# Вывод первых нескольких строк DataFrame с предсказаниями\n",
        "print(\"\\nСравнение фактических и предсказанных значений без масштабирования:\")\n",
        "print(predictions_df_raw.head())\n",
        "\n",
        "print(\"\\nСравнение фактических и предсказанных значений с масштабированием:\")\n",
        "print(predictions_df_scaled.head())\n"
      ]
    },
    {
      "cell_type": "markdown",
      "metadata": {
        "id": "LJdQGP5B6UuT"
      },
      "source": [
        "Какая модель справилась с решением задачи?"
      ]
    },
    {
      "cell_type": "code",
      "execution_count": null,
      "metadata": {
        "id": "NVlFtudDG20y"
      },
      "outputs": [],
      "source": [
        "# ваш ответ здесь"
      ]
    }
  ],
  "metadata": {
    "colab": {
      "provenance": []
    },
    "kernelspec": {
      "display_name": "Python 3",
      "name": "python3"
    },
    "language_info": {
      "codemirror_mode": {
        "name": "ipython",
        "version": 3
      },
      "file_extension": ".py",
      "mimetype": "text/x-python",
      "name": "python",
      "nbconvert_exporter": "python",
      "pygments_lexer": "ipython3",
      "version": "3.10.0rc2"
    }
  },
  "nbformat": 4,
  "nbformat_minor": 0
}
